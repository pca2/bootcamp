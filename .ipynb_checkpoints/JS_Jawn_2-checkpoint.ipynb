{
 "cells": [
  {
   "cell_type": "markdown",
   "metadata": {},
   "source": [
    "# JavaScript Jawn Part 2\n",
    "\n",
    "## Section 1: let and const variables\n",
    "\n",
    "So far you've\n",
    "always been declaring variables with the `var` keyword, but\n",
    "there's actually\n",
    "other ways do define variables too, `let` and `const`\n",
    "\n",
    "First\n",
    "let's do a quick\n",
    "review of `var`. Two of the key properties of variables defined\n",
    "with var are\n",
    "that:\n",
    "\n",
    "1. They are scoped to the function in which they are\n",
    "declared, or if\n",
    "there is no function, the global frame.\n",
    "2. They are hoisted at\n",
    "compile time,\n",
    "meaning that they are allocated in memory as soon as the script\n",
    "loads.\n",
    "\n",
    "Here's\n",
    "an example:"
   ]
  },
  {
   "cell_type": "code",
   "execution_count": null,
   "metadata": {},
   "outputs": [],
   "source": [
    "console.log(\"before the block myVar equals \" + myVar);\n",
    "if (1 < 2){\n",
    "  var myVar = \"this is a var variable declared inside an if block\";\n",
    "  console.log(\"inside the block myVar equals \" + myVar);\n",
    "\n",
    "}\n",
    "console.log(\"after the if block myVar equals \" + myVar);"
   ]
  },
  {
   "cell_type": "markdown",
   "metadata": {},
   "source": [
    "### let \n",
    "\n",
    "You can also define variables using the keyword `let` instead of\n",
    "`var`. Here's how `let` variables differ:\n",
    "\n",
    "1. Thy are scoped to the __block__ in\n",
    "which they are declared. In addition to functions, this includes things like if\n",
    "statements and while/for loops.\n",
    "2. They are __not hoisted__ meaning that they do\n",
    "not exist in memory in any way until the interpreter gets to the line on which\n",
    "they are defined. \n",
    "\n",
    "Let's look at what happens if you swap out `var myVar` with\n",
    "`let myLet` in the code from above:"
   ]
  },
  {
   "cell_type": "code",
   "execution_count": null,
   "metadata": {},
   "outputs": [],
   "source": [
    "console.log(\"before the block myLet equals \" + myLet);\n",
    "if (1 < 2){\n",
    "    let myLet = \"this is a let variable declared inside an if block\";\n",
    "    console.log(\"inside the block myLet equals \" + myLet);\n",
    "}\n",
    "console.log(\"after the if block myLet equals \" + myLet);"
   ]
  },
  {
   "cell_type": "markdown",
   "metadata": {},
   "source": [
    "Because let variables are not hoisted, this code chunk will error on the first\n",
    "line and not continue\n",
    "\n",
    "Let's skip that first line though and see what we get:"
   ]
  },
  {
   "cell_type": "code",
   "execution_count": null,
   "metadata": {},
   "outputs": [],
   "source": [
    "if (1 < 2){\n",
    "    let myLet = \"this is a let variable declared inside an if block\";\n",
    "    console.log(\"inside the block myLet equals \" + myLet);\n",
    "}\n",
    "console.log(\"after the if block myLet equals \" + myLet);"
   ]
  },
  {
   "cell_type": "markdown",
   "metadata": {},
   "source": [
    "So as you can see, the `myLet` only existed in the if block. Unlike a `var`\n",
    "variable, it doesn't exist in any form outside of this block.\n",
    "\n",
    "In the right\n",
    "circumstances, `let` has several advantages over `var`, most notably\n",
    "performance. Because `let` variables are cleaned up after their block completes,\n",
    "they're no longer sitting around taking up memory. They're also great for\n",
    "temporary variables such as in loops, and allow for cleaner code. Consider the\n",
    "following:"
   ]
  },
  {
   "cell_type": "code",
   "execution_count": null,
   "metadata": {},
   "outputs": [],
   "source": [
    "var array = [1,2,3];\n",
    "\n",
    "for (var i = 0; i < array.length; i += 1) {\n",
    "  console.log(array[i]);\n",
    "}\n",
    "console.log(\"i is still equal to \" + i);"
   ]
  },
  {
   "cell_type": "markdown",
   "metadata": {},
   "source": [
    "We don't think about it, but `i` is still there in memory after the loop\n",
    "completes, taking up space, and possibly colluding with other loops. If we\n",
    "define `i` with `let` instead, it will be cleaned up as soon as the loop is\n",
    "over:"
   ]
  },
  {
   "cell_type": "code",
   "execution_count": null,
   "metadata": {},
   "outputs": [],
   "source": [
    "var i = undefined; //resetting from previous example\n",
    "var array = [1,2,3];\n",
    "\n",
    "for (let i = 0; i < array.length; i += 1) {\n",
    "  console.log(array[i]);\n",
    "}\n",
    "\n",
    "console.log(\"i is now \" + i);"
   ]
  },
  {
   "cell_type": "markdown",
   "metadata": {},
   "source": [
    "`let` can be especially helpful if you have multpile loops going at once.\n",
    "\n",
    "### const\n",
    "\n",
    "Variables defined with `const` are very similiar to `let` variables.\n",
    "1.\n",
    "Just like `let`, they are scoped to the __block__ in which they are declared.\n",
    "In\n",
    "addition to functions, this includes things like if statements and while/for\n",
    "loops.\n",
    "2. Just like `let`, they are __not hoisted__ meaning that they do not\n",
    "exist in memory in any way until the interpreter gets to the line on which they\n",
    "are defined. \n",
    "\n",
    "Plus a third rule:\n",
    "3. Variables defined with `const` will throw\n",
    "an error if you attempt to re-define them."
   ]
  },
  {
   "cell_type": "code",
   "execution_count": null,
   "metadata": {},
   "outputs": [],
   "source": [
    "const name = \"Ralph\";\n",
    "console.log(\"In the global frame the name is \" + name);\n",
    "if (1 < 2){\n",
    "  const name = \"Sam\";\n",
    "  console.log(\"In this block name is \" + name);\n",
    "}\n",
    "console.log(\"Back in the global frame the name is \" + name);\n",
    "const name = \"Another name\";"
   ]
  },
  {
   "cell_type": "markdown",
   "metadata": {},
   "source": [
    "__Summary__\n",
    "\n",
    "| Type | Scope | Hoisting | Other |\n",
    "| --- | --- | --- | --- |\n",
    "|var |function|hoisted|N/A |\n",
    "|let | block |not hoisted|N/A |\n",
    "|const|block|not hoisted| error if re-defined|\n",
    "\n",
    "__Exercise__\n",
    "\n",
    "# tk\n",
    "--sucks--\n",
    "Given the following\n",
    "2-D array, write a nested loop\n",
    "(a loop inside of a loop) that utilizes let\n",
    "variables to use only one loop\n",
    "variable"
   ]
  },
  {
   "cell_type": "code",
   "execution_count": null,
   "metadata": {
    "attributes": {
     "classes": [
      "javascript"
     ],
     "id": ""
    }
   },
   "outputs": [],
   "source": [
    "var items = [\n",
    "  [1, 2],\n",
    "  [3, 4],\n",
    "  [5, 6]\n",
    "];"
   ]
  },
  {
   "cell_type": "markdown",
   "metadata": {},
   "source": [
    "## Section 2: Closure\n",
    "\n",
    "As we know, JS has functional scope for variables defined\n",
    "with `var`. These variables are scoped to the function they are defined in, and\n",
    "if they're not defined inside a function, they're scoped to the global frame.\n",
    "Nested functions always have access to outer layers, but outer layers never have\n",
    "access to inner layers."
   ]
  },
  {
   "cell_type": "code",
   "execution_count": null,
   "metadata": {},
   "outputs": [],
   "source": [
    "function funcOne() {\n",
    "  var myString = \"This string is defined inside funcOne\";\n",
    "  function writeString() {\n",
    "    console.log(myString)\n",
    "  }\n",
    "  writeString();\n",
    "}\n",
    "\n",
    "funcOne();"
   ]
  },
  {
   "cell_type": "markdown",
   "metadata": {},
   "source": [
    "The code above is nothing you haven't seen before, but let's review what happens\n",
    "here because we're then going to build on this basic example:\n",
    "\n",
    "1. `funcOne`\n",
    "defines a variable, `myString`, and a function, `writeString`.\n",
    "2. `funcOne` then\n",
    "calls the `writeString` function.\n",
    "3. `writeString` simply logs the `variable`\n",
    "myString. Note that `writeString` has access to `myString` automatically thanks\n",
    "to JS's lexical scoping. `WriteString` doesn't define the variable nor is it\n",
    "passed in as a parameter.\n",
    "\n",
    "Let's change to code block above slightly to make use\n",
    "of closure:"
   ]
  },
  {
   "cell_type": "code",
   "execution_count": null,
   "metadata": {},
   "outputs": [],
   "source": [
    "function funcOne() {\n",
    "  var myString = \"This string is defined inside funcOne\";\n",
    "  function writeString() {\n",
    "\t  console.log(myString)\n",
    "\t}\n",
    "\treturn writeString;\n",
    "}\n",
    "\n",
    "var myFunc = funcOne();\n",
    "myFunc();"
   ]
  },
  {
   "cell_type": "markdown",
   "metadata": {},
   "source": [
    "Okay, so almost the same code as before, but now instead of `funcOne` defining\n",
    "and then running `writeString`, it now defines it and _returns_ the function\n",
    "itself. That means when we define `myFunc` as the result of `funcOne()`, we're\n",
    "essentially defining `myFunc` as the `writeString` nested function. Just as in\n",
    "the first example, `writeString` has access to the `myString` variable, but so\n",
    "does `myFunc`. \n",
    "\n",
    "The key thing to understand here is that when a function\n",
    "returns another function that is nested inside of it, you're not only returning\n",
    "the nested function, you're returning the __context in which the nested function\n",
    "was defined__. This is what's know as a closure. This is possible in JS because\n",
    "functions are _first-class objects_.\n",
    "\n",
    "Here's a more formal definition that you\n",
    "may find helpful:\n",
    "\n",
    ">A closure is the combination of a function\n",
    "and the lexical\n",
    "environment within which that function was declared. This\n",
    "environment consists\n",
    "of any local variables that were in-scope at the time that\n",
    "the closure was\n",
    "created. \n",
    "\n",
    "-- https://developer.mozilla.org/en-US/docs/Web/JavaScript/Closures\n",
    "One of the neat things that closures\n",
    "makes\n",
    "possible is functions that create\n",
    "other functions, but with the same\n",
    "initial\n",
    "conditions for every new instance.\n",
    "Let's take a look."
   ]
  },
  {
   "cell_type": "code",
   "execution_count": null,
   "metadata": {},
   "outputs": [],
   "source": [
    "var makeAdder = function(a) {\n",
    "  var adder = function(b) {\n",
    "  console.log(a + b)\n",
    "  }\n",
    "  return adder \n",
    "}\n",
    "\n",
    "var add5 = makeAdder(5);\n",
    "//the A parameter in the above code has been set to 5\n",
    "//You can now pass any number to add5 and it will add 5 to it\n",
    "\n",
    "add5(2);\n",
    "add5(7);"
   ]
  },
  {
   "cell_type": "code",
   "execution_count": null,
   "metadata": {},
   "outputs": [],
   "source": [
    "var add10 = makeAdder(10);\n",
    "//Now the A parameter has been set to 10.\n",
    "//You can now pass any number to add10 and 10 will be added to it\n",
    "\n",
    "add10(2);\n",
    "add10(7);\n"
   ]
  },
  {
   "cell_type": "markdown",
   "metadata": {},
   "source": [
    "Now that's neat and all, but maybe not the most practical example. Let's take a\n",
    "look at some instances where closures can be quite helpful.\n",
    "\n",
    "Closures allow you\n",
    "to mimic some of the features of object-oriented languages that JS lacks on its\n",
    "own. for example, private values. Let's take a look at an example:"
   ]
  },
  {
   "cell_type": "code",
   "execution_count": null,
   "metadata": {},
   "outputs": [],
   "source": [
    "var makeCounter = function() {\n",
    "  var privateCounter = 0;\n",
    "  function changeBy(val) {\n",
    "    privateCounter += val;\n",
    "    //console.log(privateCounter);  \n",
    "  }\n",
    "  return {\n",
    "    increment: function() {\n",
    "      changeBy(1);\n",
    "      console.log(privateCounter);  \n",
    "    },\n",
    "    decrement: function() {\n",
    "      changeBy(-1);\n",
    "      console.log(privateCounter);  \n",
    "    },\n",
    "    value: function() {\n",
    "      console.log(privateCounter);  \n",
    "    }\n",
    "  }  \n",
    "};"
   ]
  },
  {
   "cell_type": "markdown",
   "metadata": {},
   "source": [
    "This is very similiar to the other closures we saw above. `MakeCounter` defines\n",
    "an initial variable, `privateCounter`, and a function, `changeBy`, which has\n",
    "access to `privateCounter`. Instead of returning a single function as we saw\n",
    "earlier, it actually returns an object which contains 3 functions. Two of these\n",
    "functions call the `ChangeBy` function, and as a result have access to\n",
    "`privateCounter` through the magic of closure.\n",
    "\n",
    "We can now create a new counter\n",
    "and use any of these methods:"
   ]
  },
  {
   "cell_type": "code",
   "execution_count": null,
   "metadata": {},
   "outputs": [],
   "source": [
    "var counter1 = makeCounter();\n",
    "counter1.increment();\n",
    "counter1.increment();\n",
    "counter1.decrement();"
   ]
  },
  {
   "cell_type": "markdown",
   "metadata": {},
   "source": [
    "We could then even create anoter counter if we wanted to, and it would not be\n",
    "affected be the first one, even though they both start with the same initial\n",
    "value"
   ]
  },
  {
   "cell_type": "code",
   "execution_count": null,
   "metadata": {},
   "outputs": [],
   "source": [
    "var counter2 = makeCounter();\n",
    "counter2.decrement();\n",
    "counter2.decrement();\n",
    "counter2.decrement();"
   ]
  },
  {
   "cell_type": "markdown",
   "metadata": {},
   "source": [
    "Notice of course that neither counter has direct access to that privateCounter\n",
    "variable, they have to go through the value function. Using closures in this way\n",
    "is sometimes known the _module pattern_. \n",
    "\n",
    "__Excercise__\n",
    "\n",
    "TK\n",
    "\n",
    "One of the reasons\n",
    "closure and JavaScript are so closely associated with each\n",
    "other is that it's\n",
    "not possible in many other languages:\n",
    "\n",
    ">In\n",
    "JavaScript, if you\n",
    "use the function\n",
    "keyword inside another function, you are\n",
    "creating a closure. In\n",
    "C and most other\n",
    "common languages, after a function\n",
    "returns, all the local\n",
    "variables are no\n",
    "longer accessible because the stack-\n",
    "frame is destroyed. In\n",
    "JavaScript, if you\n",
    "declare a function within another\n",
    "function, then the local\n",
    "variables can remain\n",
    "accessible after returning from\n",
    "the function you called.\n",
    "\n",
    "--\n",
    "https://stackoverflow.com/a/111111\n"
   ]
  },
  {
   "cell_type": "markdown",
   "metadata": {},
   "source": [
    "# Section 3: The `this` keyword and Constructor functions\n",
    "\n",
    "\n",
    "Let's say you create a new object, fido:"
   ]
  },
  {
   "cell_type": "code",
   "execution_count": null,
   "metadata": {
    "attributes": {
     "classes": [
      "javascript"
     ],
     "id": ""
    }
   },
   "outputs": [],
   "source": [
    "var fido = {\n",
    "  name: \"fido\",\n",
    "  barkCount: 0     \n",
    "};"
   ]
  },
  {
   "cell_type": "markdown",
   "metadata": {},
   "source": [
    "You like having fido around so much you decide to create another very similiar\n",
    "object, lassie:"
   ]
  },
  {
   "cell_type": "code",
   "execution_count": null,
   "metadata": {
    "attributes": {
     "classes": [
      "javascript"
     ],
     "id": ""
    }
   },
   "outputs": [],
   "source": [
    "var lassie = {\n",
    "  name: \"lassie\",\n",
    "  barkCount: 0     \n",
    "};"
   ]
  },
  {
   "cell_type": "markdown",
   "metadata": {},
   "source": [
    "This is great and all, but in practice, you probably don't want to be lovingly\n",
    "handmaking artisnal objects one-by-one; you want some automation. Fortunately we\n",
    "can create a single constructor function that will take care of that for us:"
   ]
  },
  {
   "cell_type": "code",
   "execution_count": null,
   "metadata": {
    "attributes": {
     "classes": [
      "javascript"
     ],
     "id": ""
    }
   },
   "outputs": [],
   "source": [
    "var Dog = function(name,barkCount) {\n",
    "  this.name = name;\n",
    "  this.barkCount = 0;\n",
    "}"
   ]
  },
  {
   "cell_type": "markdown",
   "metadata": {},
   "source": [
    "With this handy function we can create as many Dog-like obects as we want with:"
   ]
  },
  {
   "cell_type": "code",
   "execution_count": null,
   "metadata": {
    "attributes": {
     "classes": [
      "javascript"
     ],
     "id": ""
    }
   },
   "outputs": [],
   "source": [
    "var fido = new Dog('fido',0);\n",
    "\n",
    "console.log(fido);"
   ]
  },
  {
   "cell_type": "markdown",
   "metadata": {},
   "source": [
    "So we've encountered the `this` keyword. It's a powerful idea that, like most things in Javascript, has a few quirks to it.\n",
    "\n",
    "In Javascript `this` is a special keyword used inside functions to refer back to the object/context that invoked the function. Much like the actual English word, `this` can be thought of sort of like a programming pronoun. Instead of referring to another noun though, it refers to another object. This is especially helpful when you want to refer to an object that might not exist yet. \n",
    "\n",
    "Let's take a look again at that Dog function to see what I mean.\n"
   ]
  },
  {
   "cell_type": "code",
   "execution_count": null,
   "metadata": {},
   "outputs": [],
   "source": [
    "var Dog = function(name,barkCount) {\n",
    "  this.name = name;\n",
    "  this.barkCount = barkCount;\n",
    "}\n",
    "\n",
    "var fido = new Dog('fido',0);"
   ]
  },
  {
   "cell_type": "markdown",
   "metadata": {},
   "source": [
    "The `this` keyword acts as a placeholder. You're saying \"whatever new object is created from running this constructor function, assign it a `name` property equal to the name parameter, and a `barkCount` property equal to the `barkCount` parameter\". This is helpful because the new object doesn't actually exist yet.\n",
    "\n",
    "Also don't forget the difference between parameters and properties in these examples. We use the same name for ease of understanding, but they're separate things:"
   ]
  },
  {
   "cell_type": "code",
   "execution_count": null,
   "metadata": {},
   "outputs": [],
   "source": [
    "var Dog = function(fartz_parameter,buttz_parameter) {\n",
    "  this.name = fartz_parameter;\n",
    "  this.barkCount = buttz_parameter;\n",
    "}"
   ]
  },
  {
   "cell_type": "markdown",
   "metadata": {},
   "source": [
    "__Exercise__\n",
    "tk \n",
    "\n",
    "The `this` keyword can also be helpful when assigning functions to an object: "
   ]
  },
  {
   "cell_type": "code",
   "execution_count": null,
   "metadata": {},
   "outputs": [],
   "source": [
    "var puppy = {\n",
    "  name: \"fido\",\n",
    "  barkCount: 0,\n",
    "  bark: function(){\n",
    "    this.barkCount += 1;\n",
    "    console.log(\"barkcount is \" + this.barkCount);\n",
    "  }\n",
    "}\n",
    "\n",
    "puppy.bark();\n",
    "puppy.bark();"
   ]
  },
  {
   "cell_type": "markdown",
   "metadata": {},
   "source": [
    "__Invocation Rules__\n",
    "\n",
    "In the above example, the `this` in the `bark` function refers to `puppy`, which is pretty straightforward. There are however instances when things can get complicated and it can be tough to figure out what object `this` is pointing to. Let's go over some examples. \n",
    "\n",
    "First, just to review let's look at two straightforward examples again:\n",
    "\n",
    "Here the `this` in the `bark` function refers to the `fido` object:"
   ]
  },
  {
   "cell_type": "code",
   "execution_count": null,
   "metadata": {},
   "outputs": [],
   "source": [
    "var fido = {\n",
    "  name: \"fido\",\n",
    "  barkCount: 0,\n",
    "  bark: function(){\n",
    "    this.barkCount += 1;\n",
    "    console.log(\"barkcount is \" + this.barkCount);\n",
    "  }\n",
    "}\n",
    "fido.bark();"
   ]
  },
  {
   "cell_type": "markdown",
   "metadata": {},
   "source": [
    "In the next example, `this` refers to the new `puppy` object that's created:"
   ]
  },
  {
   "cell_type": "code",
   "execution_count": null,
   "metadata": {},
   "outputs": [],
   "source": [
    "var Dog = function(name,barkCount) {\n",
    "  this.name = name;\n",
    "  this.barkCount = barkCount;\n",
    "}\n",
    "var puppy = new Dog();"
   ]
  },
  {
   "cell_type": "markdown",
   "metadata": {},
   "source": [
    "So far That's all pretty cut and dry, but what happens when you create a new object that refers to an existing object's inner functions? \n",
    "Let's say for example that you want to create a new `fido_bark()` function that refers back to `fido.bark()`"
   ]
  },
  {
   "cell_type": "code",
   "execution_count": null,
   "metadata": {},
   "outputs": [],
   "source": [
    "var fido = {\n",
    "  name: \"fido\",\n",
    "  barkCount: 0,\n",
    "  bark: function(){\n",
    "    this.barkCount += 1;\n",
    "    console.log(\"barkcount is \" + this.barkCount);\n",
    "  }\n",
    "}\n",
    "\n",
    "var fido_bark = fido.bark;\n",
    "fido_bark();"
   ]
  },
  {
   "cell_type": "markdown",
   "metadata": {},
   "source": [
    "Obviously, that's not what we wanted to happen. What's going on is that the `this` in the `fido.bark()` function will refer to the next context \"up\" whenever it is called. In the case  of `fido_bark()` it would be the the **Window** (or in a node app, the **Global**) object, which may not be what you want. \n",
    "\n",
    "Although this seem a little confusing, an easy way to think of it is that generally speaking, the `this` keyword only cares about how it is called, not how it was defined. In the example above that means that `fido_bark` is in the global/window context, while `fido.bark` is in the `fido` context.\n",
    "\n",
    "__call and apply__\n",
    "\n",
    "Fortunately you can avoid this isssue by using the `call` and `apply` functions, which allow you to explicitly set which context you which to run code: "
   ]
  },
  {
   "cell_type": "code",
   "execution_count": null,
   "metadata": {},
   "outputs": [],
   "source": [
    "var fido = {\n",
    "  name: \"fido\",\n",
    "  barkCount: 0,\n",
    "  bark: function(){\n",
    "    this.barkCount += 1;\n",
    "    console.log(\"barkcount is \" + this.barkCount);\n",
    "  }\n",
    "}\n",
    "\n",
    "var fido_bark = fido.bark;\n",
    "fido_bark.call(fido);"
   ]
  },
  {
   "cell_type": "markdown",
   "metadata": {},
   "source": [
    "As you can see, we're manually telling the `bark` function that we want it to run with the context of `fido`, rather than `global`, which is what it would use by default.\n",
    "\n",
    "If the `fido_bark` function took any parameters you could pass them in after the first object:\n",
    "\n",
    "`fido_bark.call(fido,one_parameter,two_parameter);`\n",
    "\n",
    "\n",
    "`apply` is very similar to `call`, the chief difference is that instead of passing in any needed parameters as comma separated list you pass them in as an array.\n",
    "\n",
    "`fido_bark.apply(fido,[one_parameter,two_parameter]);`\n",
    "\n",
    "TK: call/apply exercise \n",
    "\n",
    "__Bind__\n",
    "\n",
    "As you can see, `call`/`apply` help you avoid some issues with `this`. One downside with them though is that you have to specify the proper context every time you call a function with them. This can end up being a bit verbose and redundant over time. Fortunately, `bind` can be used to help with this issue. It's used to permanently set the context of a function ahead of time, for invocation later on:"
   ]
  },
  {
   "cell_type": "code",
   "execution_count": null,
   "metadata": {},
   "outputs": [],
   "source": [
    "var fido = {\n",
    "  name: \"fido\",\n",
    "  bark: function () {\n",
    "  console.log(\"My name is  \" + this.name);\n",
    "  }\n",
    "}\n",
    "\n",
    "var bingo = {\n",
    "  name: \"bingo\"\n",
    "}\n",
    "\n",
    "bingo.bark = fido.bark.bind(bingo);\n",
    "bingo.bark();"
   ]
  },
  {
   "cell_type": "markdown",
   "metadata": {},
   "source": [
    "So as you can see, using `call` or `apply` invokes the `bark` function right away, but `bind` is used to create a new function with the proper context permanently set."
   ]
  },
  {
   "cell_type": "markdown",
   "metadata": {},
   "source": [
    "This technique is sometimes called \"function borrowing\".\n",
    "\n",
    "TK:Bind Exercise "
   ]
  },
  {
   "cell_type": "markdown",
   "metadata": {},
   "source": [
    "# Inheritance\n",
    "\n",
    "Inheritance is a key concept in any object-oriented programming language. Although the implementation details can vary considerably from language to language, the essential idea behind inheritance is relatively simple: message delegation. The following quote from Sandi Metz's _Practical Object-Oriented Design_ sums it up pretty succinctly:\n",
    "\n",
    "> Inheritance is, at its core, a mechanism for automatic message delegation. It defines a forwarding path for not-understood messages. It creates relationships such that, if one object cannot respond to a received message, it delegates that message to another.(106)\n",
    "\n",
    "This is the core of what inheritance is all about. If one object doesn't know how to respond to a property or method call, we check its parent object, if the parent object doesn't know how to respond, we check the next level up, and so on and so on. As we'll see today, the actual implementation details can get pretty complex pretty quickly, but it's important to keep in mind that the core of this concept is relatively straightforward.\n",
    "\n",
    "## Classical vs. Prototypal Inheritance\n",
    "\n",
    "Class-based inheritance systems are much more common than prototypal systems, so it might be helpful to quickly distinguish the two. Let's review classical inheritance briefly and then contrast it with a prototypal system. \n",
    "\n",
    "### Classical Inheritance\n",
    "\n",
    "Class-based object-oriented languages, such as Ruby or Python, primarily use two main types of abstractions to represent the world:\n",
    "- objects: A specific instance of something. An email, a cake, a customer help request, etc.\n",
    "- classes: A generalization of a type of object. They hold shared properties and functions common to all of those objects. \n",
    "\n",
    "In Ruby all objects belong to a class, from which they inherit properties and methods. Classes in turn can inherit things from another class. This hierarchy of `class -> subclass -> object` creates what's known as a _inheritance chain_ or _inheritance path_. \n",
    "\n",
    "Let's take a look at this concept using the example of cake. Say I have an ice cream cake in the freezer, we'll refer to it as `myBirtdayCake`. This specific cake is an instance of the `IceCreamCake` class. It shares certain basic properties that all members of the `IceCreamCake` have in common. The `IceCreamCake` class is in turn actually a subclass of the larger `Cake` class, as it inherits many properties from that superclass.\n",
    "\n",
    "| Name | Type | Comments |\n",
    "| :--- | :--- | :---: |\n",
    "| Cake | class | The base class, and in this instance, a superclass of IceCreamCake |\n",
    "| IceCreamCake | class | a subclass of Cake. Can also be said to _extend_ the Cake class |\n",
    "| myBirthdayCake | object  | an instance of the IceCreamCake class.|\n",
    "\n",
    "On a superficial level, you might think of a class as a blueprint, or recipe, for a type of objects. In the same way that you use an actual ice cream cake recipe to create a real-world ice cream cake, you can use the `IceCreamCake` class to create an `IceCreamCake` object like `myBirthdayCake`.\n",
    "\n",
    "Cake receipes are of course just a set of instructions, they're not made of flour and sugar. Similiary, the `Cake` class is not a `Cake` object, it's just a set of instructions on how to make `Cake` objects. This may seem like an odd aspect to highlight, but as we'll see in a moment, this metaphor doesn't quite work with prototypal languages.\n",
    "\n",
    "### Prototypal Inheritance\n",
    "\n",
    "Javascript, as a prototype-based language, lacks the concept of classes\\*, as such the only abstraction it has at its disposal is objects. The need to share common properties and methods across similiar objects still exists though, and JavaScript accomplishes this by designating certain objects as __prototypes__ of others. An object will inherit all properties of its prototype, similiar to how an object in Ruby or Python inherits the properties of the class it belongs to. Let's take a look at this in action by returning to our example of `Cake -> IceCreamCake -> myBirthdayCake`.\n",
    "\n",
    "<sub>*Although ES6 did introduce the `class` syntax, it's effectively syntactical sugar over JavaScript's prototype system, as we'll see later. </sub>\n",
    "\n",
    "First let's define a cake object:"
   ]
  },
  {
   "cell_type": "code",
   "execution_count": null,
   "metadata": {},
   "outputs": [],
   "source": [
    "var cake = {\n",
    "  ingredients: ['flour','sugar','eggs','butter','baking powder', 'milk'], \n",
    "  flavor:'vanilla'\n",
    "  };"
   ]
  },
  {
   "cell_type": "markdown",
   "metadata": {},
   "source": [
    "Now let's define an IceCreamCake object that has a `ice_cream_flavor` property:"
   ]
  },
  {
   "cell_type": "code",
   "execution_count": null,
   "metadata": {},
   "outputs": [],
   "source": [
    "var iceCreamCake = {\n",
    "  ice_cream_flavor: \"chocolate\"\n",
    "  };"
   ]
  },
  {
   "cell_type": "markdown",
   "metadata": {},
   "source": [
    "Right now these are just two plain ol' objects that aren't connected to each other in any way. Let's change that by declaring that `iceCreamCake`'s prototype is `cake`. Once we do that `iceCreamCake` will have access to `cake`'s properties as if they were its own."
   ]
  },
  {
   "cell_type": "code",
   "execution_count": null,
   "metadata": {},
   "outputs": [],
   "source": [
    "iceCreamCake.__proto__ = cake;\n",
    "console.log(`The first ingredient in iceCreamCake is ${iceCreamCake.ingredients[0]}`)"
   ]
  },
  {
   "cell_type": "markdown",
   "metadata": {},
   "source": [
    "Now that we have the `cake -> iceCreamCake` relationship defined we can create a `myBirthdayCake` object that inherits from both:"
   ]
  },
  {
   "cell_type": "code",
   "execution_count": null,
   "metadata": {},
   "outputs": [],
   "source": [
    "var myBirthdayCake = {};\n",
    "myBirthdayCake.__proto__ = iceCreamCake;\n",
    "myBirthdayCake.flavor = 'strawberry';\n",
    "console.log(`My birthday cake is ${myBirthdayCake.flavor} with ${myBirthdayCake.ice_cream_flavor} ice cream `)"
   ]
  },
  {
   "cell_type": "markdown",
   "metadata": {},
   "source": [
    "Objects designated as prototypes are still just plain 'ol objects, all that differs is how their `prototype` property has been assigned. Let's take a look at how our cake inheritance chain might look under this system.\n",
    "\n",
    "| Name | Type | Comments |\n",
    "| --- | --- | --- |\n",
    "| cake | object | The prototype of `iceCreamCake`  |\n",
    "| iceCreamCake | object | The child of `cake`, and the prototype of `myBirthdayCake`  |\n",
    "| myBirthdayCake | object  | The child of `iceCreamCake` |\n",
    "\n",
    "\n",
    "Note that our metaphor earlier about a class in Ruby being like a blueprint or receipe doesn't really work with JavaScript prototypes. Every level of our inheritance chain is an object. The `cake` object at the top of our chain is a plain ol' object just like the `myBirthdayCake` object at the end. `cake` less like a blueprint or receipe and more like a parent or grandparent. \n",
    "\n",
    "\n",
    "__Super Secret Pro-Tip: Object.create()__\n",
    "\n",
    "Creating an object and _then_ designating its prototype is kind of verbose. Here's a handy tip to do both in one line: `Object.create()`\n",
    "\n",
    "This:"
   ]
  },
  {
   "cell_type": "code",
   "execution_count": null,
   "metadata": {},
   "outputs": [],
   "source": [
    "var myBirthdayCake = {};\n",
    "myBirthdayCake.__proto__ = iceCreamCake;"
   ]
  },
  {
   "cell_type": "markdown",
   "metadata": {},
   "source": [
    "Is equivalent to:"
   ]
  },
  {
   "cell_type": "code",
   "execution_count": null,
   "metadata": {},
   "outputs": [],
   "source": [
    "var myBirthdayCake = Object.create(iceCreamCake);"
   ]
  },
  {
   "cell_type": "markdown",
   "metadata": {},
   "source": [
    "__Exercise__\n",
    "\n",
    "Create a three level inheritance chain of `Prototype -> Child-Prototype -> Child-Object` similiar to `Cake -> IceCreamCake -> myBirthdayCake` examples above. Be sure to include a console line or function that demonstrates inherited properties."
   ]
  },
  {
   "cell_type": "markdown",
   "metadata": {},
   "source": [
    "### The Need for Design patterns in JavaScript\n",
    "\n",
    "As we've mentioned before, JavaScript lacks a lot of the abstractions present in other object-oriented languages for structuring inheritance chains and reusing code. It doesn't have classes, modules, structs or anything like that; all it has is objects and functions. Also unlike many class-based languages, objects in JavaScript don't have to be part of any class or inheritance chain. A result of this spartan approach is that JavaScript is much more flexible and agnostic about how you organize your code. Consequently there are a number of different patterns that have emerged in the JS community for how to structure your inheritance. For example, the examples you learned above illustrate part of the _Prototype Pattern_. The next approarch we're going to look at is what's known as the _Constructor Pattern_"
   ]
  },
  {
   "cell_type": "markdown",
   "metadata": {},
   "source": [
    "## Constructor Pattern\n",
    "\n",
    "At this point you should be familiar with constructor functions:"
   ]
  },
  {
   "cell_type": "code",
   "execution_count": 1,
   "metadata": {},
   "outputs": [],
   "source": [
    "function Monster(name,color){\n",
    "  this.name = name;\n",
    "  this.color = color;\n",
    "}\n",
    "\n",
    "var bigfoot = new Monster('bigfoot','brown');"
   ]
  },
  {
   "cell_type": "markdown",
   "metadata": {},
   "source": [
    "If you check the `__proto__` property of any objects created from a constructor function you'll discover that it's been set to the name of the constructor function plus an empty object:"
   ]
  },
  {
   "cell_type": "code",
   "execution_count": 2,
   "metadata": {},
   "outputs": [
    {
     "name": "stdout",
     "output_type": "stream",
     "text": [
      "Monster {}\n"
     ]
    }
   ],
   "source": [
    "console.log(bigfoot.__proto__);"
   ]
  },
  {
   "cell_type": "markdown",
   "metadata": {},
   "source": [
    "All functions have a `prototype` property, separate from `__proto__`.  A function's `prototype` is the object instance that will become the prototype for all objects created using this function as a constructor. By default it's empty, but it's not hard to add any properties you want to it, which all child objects will then inherit, just like any prototype/child relationship. "
   ]
  },
  {
   "cell_type": "code",
   "execution_count": 3,
   "metadata": {},
   "outputs": [
    {
     "name": "stdout",
     "output_type": "stream",
     "text": [
      "Monster { eyes: 2 }\n",
      "2\n"
     ]
    }
   ],
   "source": [
    "Monster.prototype.eyes = 2;\n",
    "\n",
    "console.log(bigfoot.__proto__);\n",
    "console.log(bigfoot.eyes);"
   ]
  },
  {
   "cell_type": "markdown",
   "metadata": {},
   "source": [
    "As you can see, because of the nature of inheritance, editing a constructor's `prototype` affects all child objects, even those already created. \n",
    "\n",
    "\n",
    "### Approximating classes in JavaScript\n",
    "\n",
    "By using constructor functions and prototypes together you can kinda create a pseudo-class:"
   ]
  },
  {
   "cell_type": "code",
   "execution_count": 4,
   "metadata": {},
   "outputs": [
    {
     "name": "stdout",
     "output_type": "stream",
     "text": [
      "Hello, I'm Harry\n"
     ]
    }
   ],
   "source": [
    "function Monster(name,color){\n",
    "    this.name = name;\n",
    "    this.color = color;\n",
    "};\n",
    "Monster.prototype.greet = function(){\n",
    "    console.log(\"Hello, I'm \" + this.name);\n",
    "};\n",
    "\n",
    "var wolfman = new Monster('Harry','brown');\n",
    "wolfman.greet();"
   ]
  },
  {
   "cell_type": "markdown",
   "metadata": {},
   "source": [
    "It may not be pretty, but the code above provides much the same functionality as a class in a more traditionally object-oriented language like Ruby.* The `Monster` function works similarly to an `initialize` method in Ruby classes. You use it to define properties and functions unique to each specific object created. The `prototype` is then where you define any class properties and functions that should be shared amongst all child objects. \n",
    "\n",
    "<sub>Check out [this link](https://gist.github.com/pca2/98a795d0ebdde9f4ba6b63ccd85fba3f) for how the above code might look in Ruby.</sub>"
   ]
  },
  {
   "cell_type": "markdown",
   "metadata": {},
   "source": [
    "__Exercise__\n",
    "\n",
    "Using the above code as an example, create a `Person` constructor with at least one function on its `prototype`. Afterwards, create a child object that demonstrates the shared function."
   ]
  },
  {
   "cell_type": "markdown",
   "metadata": {},
   "source": [
    "### Multi-level Inheritance with the Constructor Pattern\n",
    "\n",
    "So the above example works is approximating a basic class, but in order to achieve multi-level inheritance similar to the `Cake -> IceCreamCake -> myBirthdayCake` example we used above, we'll need to make a few changes to our code."
   ]
  },
  {
   "cell_type": "code",
   "execution_count": null,
   "metadata": {},
   "outputs": [],
   "source": []
  },
  {
   "cell_type": "markdown",
   "metadata": {},
   "source": [
    "### New New Outline:\n",
    "1. ~~Constructors! You know them!~~\n",
    "2. ~~They set object `__proto__` fields~~\n",
    "3. ~~functions have a `prototype ` field . They become the `proto` for any new objects~~\n",
    "4. ~~You can easily set prototype fields, even retroactively~~\n",
    "5. ~~You can sorta set up a very basic class this way. Constructor is the initialize and prototype for class methods and variables (show this, exercise)~~\n",
    "6. This is great and all, but how do you do multi-level inheritance??\n",
    "7. With the constructor property! Show this\n",
    "8. Example!\n",
    "9. Class syntax"
   ]
  }
 ],
 "metadata": {
  "kernelspec": {
   "display_name": "Javascript (Node.js)",
   "language": "javascript",
   "name": "javascript"
  },
  "language_info": {
   "file_extension": ".js",
   "mimetype": "application/javascript",
   "name": "javascript",
   "version": "8.9.1"
  },
  "toc": {
   "nav_menu": {},
   "number_sections": true,
   "sideBar": true,
   "skip_h1_title": false,
   "toc_cell": false,
   "toc_position": {},
   "toc_section_display": "block",
   "toc_window_display": false
  }
 },
 "nbformat": 4,
 "nbformat_minor": 2
}
