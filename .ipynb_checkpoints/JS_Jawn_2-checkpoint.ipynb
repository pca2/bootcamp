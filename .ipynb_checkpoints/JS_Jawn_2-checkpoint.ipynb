{
 "cells": [
  {
   "cell_type": "markdown",
   "metadata": {
    "slideshow": {
     "slide_type": "slide"
    }
   },
   "source": [
    "# JavaScript Jawn II"
   ]
  },
  {
   "cell_type": "markdown",
   "metadata": {
    "slideshow": {
     "slide_type": "slide"
    }
   },
   "source": [
    "# 1: `let` and `const` variables\n",
    "\n",
    "So far you've always been declaring variables with the `var` keyword, but there's actually other ways to define variables too: `let` and `const`."
   ]
  },
  {
   "cell_type": "markdown",
   "metadata": {
    "slideshow": {
     "slide_type": "slide"
    }
   },
   "source": [
    "First let's do a quick review of `var`. Two of the key properties of variables defined\n",
    "with `var` are that:"
   ]
  },
  {
   "cell_type": "markdown",
   "metadata": {
    "slideshow": {
     "slide_type": "fragment"
    }
   },
   "source": [
    "1) They are scoped to the function in which they are declared, or if there is no function, the global frame."
   ]
  },
  {
   "cell_type": "markdown",
   "metadata": {
    "slideshow": {
     "slide_type": "fragment"
    }
   },
   "source": [
    "2) They are hoisted at compile time, meaning that they are allocated in memory as soon as the script loads."
   ]
  },
  {
   "cell_type": "markdown",
   "metadata": {
    "slideshow": {
     "slide_type": "slide"
    }
   },
   "source": [
    "Here's\n",
    "an example:"
   ]
  },
  {
   "cell_type": "code",
   "execution_count": 1,
   "metadata": {
    "slideshow": {
     "slide_type": "subslide"
    }
   },
   "outputs": [
    {
     "name": "stdout",
     "output_type": "stream",
     "text": [
      "before the block myVar equals undefined\n",
      "inside the block myVar equals inside an if block\n",
      "after the if block myVar equals inside an if block\n"
     ]
    }
   ],
   "source": [
    "console.log(\"before the block myVar equals \" + myVar);\n",
    "if (1 < 2){\n",
    "  var myVar = \"inside an if block\";\n",
    "  console.log(\"inside the block myVar equals \" + myVar);\n",
    "\n",
    "}\n",
    "console.log(\"after the if block myVar equals \" + myVar);"
   ]
  },
  {
   "cell_type": "markdown",
   "metadata": {
    "slideshow": {
     "slide_type": "slide"
    }
   },
   "source": [
    "## let \n",
    "\n",
    "You can also define variables using the keyword `let` instead of\n",
    "`var`. Here's how `let` variables differ from `var`:"
   ]
  },
  {
   "cell_type": "markdown",
   "metadata": {
    "slideshow": {
     "slide_type": "fragment"
    }
   },
   "source": [
    "1) Thy are scoped to the __block__ in which they are declared. In addition to functions, this includes things like if statements and while/for loops."
   ]
  },
  {
   "cell_type": "markdown",
   "metadata": {
    "slideshow": {
     "slide_type": "fragment"
    }
   },
   "source": [
    "2) They are __not hoisted__ meaning that they do not exist in memory in any way until the interpreter gets to the line on which they are defined. "
   ]
  },
  {
   "cell_type": "markdown",
   "metadata": {
    "slideshow": {
     "slide_type": "slide"
    }
   },
   "source": [
    "Let's look at what happens if you swap out `var myVar` with\n",
    "`let myLet` in the code from above:"
   ]
  },
  {
   "cell_type": "code",
   "execution_count": 2,
   "metadata": {
    "slideshow": {
     "slide_type": "subslide"
    }
   },
   "outputs": [
    {
     "ename": "ReferenceError",
     "evalue": "myLet is not defined",
     "output_type": "error",
     "traceback": [
      "evalmachine.<anonymous>:1",
      "console.log(\"before the block myLet equals \" + myLet);",
      "                                               ^",
      "",
      "ReferenceError: myLet is not defined",
      "    at evalmachine.<anonymous>:1:48",
      "    at ContextifyScript.Script.runInThisContext (vm.js:50:33)",
      "    at Object.runInThisContext (vm.js:139:38)",
      "    at run ([eval]:971:15)",
      "    at onRunRequest ([eval]:798:18)",
      "    at onMessage ([eval]:758:13)",
      "    at emitTwo (events.js:126:13)",
      "    at process.emit (events.js:214:7)",
      "    at emit (internal/child_process.js:772:12)",
      "    at _combinedTickCallback (internal/process/next_tick.js:141:11)"
     ]
    }
   ],
   "source": [
    "console.log(\"before the block myLet equals \" + myLet);\n",
    "if (1 < 2){\n",
    "    let myLet = \"inside an if block\";\n",
    "    console.log(\"inside the block myLet equals \" + myLet);\n",
    "}\n",
    "console.log(\"after the if block myLet equals \" + myLet);"
   ]
  },
  {
   "cell_type": "markdown",
   "metadata": {
    "slideshow": {
     "slide_type": "fragment"
    }
   },
   "source": [
    "Because let variables are not hoisted, the code chunk error-ed on the first line and will not continue"
   ]
  },
  {
   "cell_type": "markdown",
   "metadata": {
    "slideshow": {
     "slide_type": "slide"
    }
   },
   "source": [
    "Let's skip that first line though and see what we get:"
   ]
  },
  {
   "cell_type": "code",
   "execution_count": 3,
   "metadata": {
    "slideshow": {
     "slide_type": "subslide"
    }
   },
   "outputs": [
    {
     "name": "stdout",
     "output_type": "stream",
     "text": [
      "inside the block myLet equals inside an if block\n"
     ]
    },
    {
     "ename": "ReferenceError",
     "evalue": "myLet is not defined",
     "output_type": "error",
     "traceback": [
      "evalmachine.<anonymous>:5",
      "console.log(\"after the if block myLet equals \" + myLet);",
      "                                                 ^",
      "",
      "ReferenceError: myLet is not defined",
      "    at evalmachine.<anonymous>:5:50",
      "    at ContextifyScript.Script.runInThisContext (vm.js:50:33)",
      "    at Object.runInThisContext (vm.js:139:38)",
      "    at run ([eval]:971:15)",
      "    at onRunRequest ([eval]:798:18)",
      "    at onMessage ([eval]:758:13)",
      "    at emitTwo (events.js:126:13)",
      "    at process.emit (events.js:214:7)",
      "    at emit (internal/child_process.js:772:12)",
      "    at _combinedTickCallback (internal/process/next_tick.js:141:11)"
     ]
    }
   ],
   "source": [
    "if (1 < 2){\n",
    "    let myLet = \"inside an if block\";\n",
    "    console.log(\"inside the block myLet equals \" + myLet);\n",
    "}\n",
    "console.log(\"after the if block myLet equals \" + myLet);"
   ]
  },
  {
   "cell_type": "markdown",
   "metadata": {
    "slideshow": {
     "slide_type": "fragment"
    }
   },
   "source": [
    "Another error, but this time it's on line 5, after the block has ended. As you can see, the `myLet` only existed in the if block. Unlike a `var` variable, it doesn't exist in any form outside of this block."
   ]
  },
  {
   "cell_type": "markdown",
   "metadata": {
    "slideshow": {
     "slide_type": "slide"
    }
   },
   "source": [
    "In the right circumstances, `let` has several advantages over `var`, most notably performance. Because `let` variables are cleaned up after their block completes, they're no longer sitting around taking up memory. They're also great for temporary variables such as in loops, and allow for cleaner code. "
   ]
  },
  {
   "cell_type": "markdown",
   "metadata": {
    "slideshow": {
     "slide_type": "slide"
    }
   },
   "source": [
    "Consider the following:"
   ]
  },
  {
   "cell_type": "code",
   "execution_count": 4,
   "metadata": {
    "slideshow": {
     "slide_type": "subslide"
    }
   },
   "outputs": [
    {
     "name": "stdout",
     "output_type": "stream",
     "text": [
      "1\n",
      "2\n",
      "3\n",
      "i is still equal to 3\n"
     ]
    }
   ],
   "source": [
    "var array = [1,2,3];\n",
    "\n",
    "for (var i = 0; i < array.length; i += 1) {\n",
    "  console.log(array[i]);\n",
    "}\n",
    "console.log(\"i is still equal to \" + i);"
   ]
  },
  {
   "cell_type": "markdown",
   "metadata": {
    "slideshow": {
     "slide_type": "slide"
    }
   },
   "source": [
    "We don't think about it, but `i` is still there in memory after the loop\n",
    "completes, taking up space, and possibly colluding with other loops. If we\n",
    "define `i` with `let` instead, it will be cleaned up as soon as the loop is\n",
    "over:"
   ]
  },
  {
   "cell_type": "code",
   "execution_count": 5,
   "metadata": {
    "slideshow": {
     "slide_type": "slide"
    }
   },
   "outputs": [
    {
     "name": "stdout",
     "output_type": "stream",
     "text": [
      "1\n",
      "2\n",
      "3\n",
      "i is now undefined\n"
     ]
    }
   ],
   "source": [
    "var i = undefined; //resetting from previous example\n",
    "var array = [1,2,3];\n",
    "\n",
    "for (let i = 0; i < array.length; i += 1) {\n",
    "  console.log(array[i]);\n",
    "}\n",
    "\n",
    "console.log(\"i is now \" + i);"
   ]
  },
  {
   "cell_type": "markdown",
   "metadata": {
    "slideshow": {
     "slide_type": "slide"
    }
   },
   "source": [
    "## const\n",
    "\n",
    "Variables defined with `const` are very similar to `let` variables."
   ]
  },
  {
   "cell_type": "markdown",
   "metadata": {
    "slideshow": {
     "slide_type": "subslide"
    }
   },
   "source": [
    "1) Just like `let`, they are scoped to the __block__ in which they are declared. In addition to functions, this includes things like if statements and while/for loops. "
   ]
  },
  {
   "cell_type": "markdown",
   "metadata": {
    "slideshow": {
     "slide_type": "fragment"
    }
   },
   "source": [
    "2) Just like `let`, they are __not hoisted__ meaning that they do not exist in memory in any way until the interpreter gets to the line on which they are defined. "
   ]
  },
  {
   "cell_type": "markdown",
   "metadata": {
    "slideshow": {
     "slide_type": "fragment"
    }
   },
   "source": [
    "3) Variables defined with `const` will throw an error if you attempt to re-define them."
   ]
  },
  {
   "cell_type": "markdown",
   "metadata": {
    "slideshow": {
     "slide_type": "slide"
    }
   },
   "source": [
    "Here's `const` in action:"
   ]
  },
  {
   "cell_type": "code",
   "execution_count": 6,
   "metadata": {
    "slideshow": {
     "slide_type": "subslide"
    }
   },
   "outputs": [
    {
     "ename": "SyntaxError",
     "evalue": "Identifier 'name' has already been declared",
     "output_type": "error",
     "traceback": [
      "evalmachine.<anonymous>:8",
      "const name = \"Another name\";",
      "      ^",
      "",
      "SyntaxError: Identifier 'name' has already been declared",
      "    at createScript (vm.js:80:10)",
      "    at Object.runInThisContext (vm.js:139:10)",
      "    at run ([eval]:971:15)",
      "    at onRunRequest ([eval]:798:18)",
      "    at onMessage ([eval]:758:13)",
      "    at emitTwo (events.js:126:13)",
      "    at process.emit (events.js:214:7)",
      "    at emit (internal/child_process.js:772:12)",
      "    at _combinedTickCallback (internal/process/next_tick.js:141:11)",
      "    at process._tickCallback (internal/process/next_tick.js:180:9)"
     ]
    }
   ],
   "source": [
    "const name = \"Ralph\";\n",
    "console.log(\"In the global frame the name is \" + name);\n",
    "if (1 < 2){\n",
    "  const name = \"Sam\";\n",
    "  console.log(\"In this block name is \" + name);\n",
    "}\n",
    "console.log(\"Back in the global frame the name is \" + name);\n",
    "const name = \"Another name\";"
   ]
  },
  {
   "cell_type": "markdown",
   "metadata": {
    "slideshow": {
     "slide_type": "slide"
    }
   },
   "source": [
    "As you can see, because we attempted to redefined `name` in the global namespace, it gave us an error.  \n",
    "\n",
    "\n",
    "__Summary__\n",
    "\n",
    "| Type | Scope | Hoisting | Other |\n",
    "| --- | --- | --- | --- |\n",
    "|var |function|hoisted|N/A |\n",
    "|let | block |not hoisted|N/A |\n",
    "|const|block|not hoisted| error if re-defined|\n"
   ]
  },
  {
   "cell_type": "markdown",
   "metadata": {
    "slideshow": {
     "slide_type": "slide"
    }
   },
   "source": [
    "# 2: Closure"
   ]
  },
  {
   "cell_type": "markdown",
   "metadata": {
    "slideshow": {
     "slide_type": "slide"
    }
   },
   "source": [
    "As we know, JS has functional scope for variables defined\n",
    "with `var`. These variables are scoped to the function they are defined in, and\n",
    "if they're not defined inside a function, they're scoped to the global frame.\n",
    "Nested functions always have access to outer layers, but outer layers never have\n",
    "access to inner layers."
   ]
  },
  {
   "cell_type": "code",
   "execution_count": 7,
   "metadata": {
    "slideshow": {
     "slide_type": "slide"
    }
   },
   "outputs": [
    {
     "name": "stdout",
     "output_type": "stream",
     "text": [
      "This string is defined inside funcOne\n"
     ]
    }
   ],
   "source": [
    "function funcOne() {\n",
    "  var myString = \"This string is defined inside funcOne\";\n",
    "  function writeString() {\n",
    "    console.log(myString)\n",
    "  }\n",
    "  writeString();\n",
    "}\n",
    "funcOne();"
   ]
  },
  {
   "cell_type": "markdown",
   "metadata": {
    "slideshow": {
     "slide_type": "fragment"
    }
   },
   "source": [
    "The code above is nothing you haven't seen before, but let's review what happens\n",
    "here because we're then going to build on this basic example:\n",
    "\n",
    "1. `funcOne` defines a variable, `myString`, and a function, `writeString`.\n",
    "2. `funcOne` then calls the `writeString` function.\n",
    "3. `writeString` simply logs the variable `myString`. \n",
    "\n",
    "Note that `writeString` has access to `myString` automatically thanks to JS's lexical scoping. `WriteString` doesn't define the variable nor is it passed in as a parameter."
   ]
  },
  {
   "cell_type": "markdown",
   "metadata": {
    "slideshow": {
     "slide_type": "slide"
    }
   },
   "source": [
    "Let's change to code block above slightly to make use\n",
    "of closure:"
   ]
  },
  {
   "cell_type": "code",
   "execution_count": 8,
   "metadata": {
    "slideshow": {
     "slide_type": "fragment"
    }
   },
   "outputs": [
    {
     "name": "stdout",
     "output_type": "stream",
     "text": [
      "This string is defined inside funcOne\n"
     ]
    }
   ],
   "source": [
    "function funcOne() {\n",
    "  var myString = \"This string is defined inside funcOne\";\n",
    "  function writeString() {\n",
    "    console.log(myString)\n",
    "  }\n",
    "  return writeString;\n",
    "}\n",
    "var myFunc = funcOne();\n",
    "myFunc();"
   ]
  },
  {
   "cell_type": "markdown",
   "metadata": {
    "slideshow": {
     "slide_type": "fragment"
    }
   },
   "source": [
    "Okay, so almost the same code as before, but now instead of `funcOne` defining\n",
    "and then running `writeString`, it now defines it and _returns_ the function\n",
    "itself. "
   ]
  },
  {
   "cell_type": "markdown",
   "metadata": {
    "slideshow": {
     "slide_type": "subslide"
    }
   },
   "source": [
    "That means when we define `myFunc` as the result of `funcOne()`, we're\n",
    "essentially defining `myFunc` as the `writeString` nested function. Just as in\n",
    "the first example `writeString` has access to the `myString` variable, but so\n",
    "does `myFunc`. "
   ]
  },
  {
   "cell_type": "markdown",
   "metadata": {
    "slideshow": {
     "slide_type": "subslide"
    }
   },
   "source": [
    "The key thing to understand here is that when a function returns another function that is nested inside of it, you're not only returning the nested function, you're returning the __context in which the nested function\n",
    "was defined__. This is what's know as a closure. This is possible in JS because functions are _first-class objects_."
   ]
  },
  {
   "cell_type": "markdown",
   "metadata": {
    "slideshow": {
     "slide_type": "slide"
    }
   },
   "source": [
    "Here's a more formal definition that you\n",
    "may find helpful:\n",
    "\n",
    ">A closure is the combination of a function and the lexical environment within which that function was declared. This environment consists of any local variables that were in-scope at the time that the closure was created. \n",
    "\n",
    "-- [MDN: Closure](https://developer.mozilla.org/en-US/docs/Web/JavaScript/Closures)"
   ]
  },
  {
   "cell_type": "markdown",
   "metadata": {
    "slideshow": {
     "slide_type": "slide"
    }
   },
   "source": [
    "One of the neat things that closures makes possible is functions that create other functions, but with the same\n",
    "initial conditions for every new instance. "
   ]
  },
  {
   "cell_type": "code",
   "execution_count": 9,
   "metadata": {
    "slideshow": {
     "slide_type": "slide"
    }
   },
   "outputs": [],
   "source": [
    "var makeAdder = function(a) {\n",
    "  var adder = function(b) {\n",
    "  console.log(a + b)\n",
    "  }\n",
    "  return adder \n",
    "}\n",
    "\n",
    "var add5 = makeAdder(5);"
   ]
  },
  {
   "cell_type": "markdown",
   "metadata": {
    "slideshow": {
     "slide_type": "fragment"
    }
   },
   "source": [
    "The `a` parameter in the above code has been set to 5 and defined as `add5`. You can now pass any number to `add5` and it will add 5 to it"
   ]
  },
  {
   "cell_type": "code",
   "execution_count": 10,
   "metadata": {
    "slideshow": {
     "slide_type": "slide"
    }
   },
   "outputs": [
    {
     "name": "stdout",
     "output_type": "stream",
     "text": [
      "7\n",
      "12\n"
     ]
    }
   ],
   "source": [
    "add5(2);\n",
    "add5(7);"
   ]
  },
  {
   "cell_type": "markdown",
   "metadata": {
    "slideshow": {
     "slide_type": "slide"
    }
   },
   "source": [
    "Thanks to closure we can use the `makeAdder` function to make a completely different adder:"
   ]
  },
  {
   "cell_type": "code",
   "execution_count": 11,
   "metadata": {
    "slideshow": {
     "slide_type": "subslide"
    }
   },
   "outputs": [],
   "source": [
    "var add10 = makeAdder(10);"
   ]
  },
  {
   "cell_type": "markdown",
   "metadata": {
    "slideshow": {
     "slide_type": "fragment"
    }
   },
   "source": [
    "Now the `a` parameter has been set to 10 and defined as `add10`.\n",
    "You can now pass any number to `add10` and 10 will be added to it"
   ]
  },
  {
   "cell_type": "code",
   "execution_count": 12,
   "metadata": {
    "slideshow": {
     "slide_type": "slide"
    }
   },
   "outputs": [
    {
     "name": "stdout",
     "output_type": "stream",
     "text": [
      "12\n",
      "17\n"
     ]
    }
   ],
   "source": [
    "add10(2);\n",
    "add10(7);"
   ]
  },
  {
   "cell_type": "markdown",
   "metadata": {
    "slideshow": {
     "slide_type": "slide"
    }
   },
   "source": [
    "Now that's neat and all, but maybe not the most practical example. Let's take a\n",
    "look at some instances where closures can be quite helpful."
   ]
  },
  {
   "cell_type": "markdown",
   "metadata": {
    "slideshow": {
     "slide_type": "slide"
    }
   },
   "source": [
    "__Private Variables__  \n",
    "Closures allow you to mimic some of the features of object-oriented languages that JS lacks on its\n",
    "own. for example, private values."
   ]
  },
  {
   "cell_type": "code",
   "execution_count": 13,
   "metadata": {
    "slideshow": {
     "slide_type": "slide"
    }
   },
   "outputs": [],
   "source": [
    "var makeCounter = function() {\n",
    "  var privateCounter = 0;\n",
    "  function changeBy(val) {\n",
    "    privateCounter += val;\n",
    "  };\n",
    "  return {\n",
    "    increment: function() {\n",
    "      changeBy(1);\n",
    "    },\n",
    "    decrement: function() {\n",
    "      changeBy(-1);\n",
    "    },\n",
    "    value: function() {\n",
    "      console.log(privateCounter);  \n",
    "    }\n",
    "  }  \n",
    "};"
   ]
  },
  {
   "cell_type": "markdown",
   "metadata": {
    "slideshow": {
     "slide_type": "fragment"
    }
   },
   "source": [
    "This is very similiar to the other closures we saw above. `makeCounter` defines\n",
    "an initial variable, `privateCounter`, and a function, `changeBy`, which has\n",
    "access to `privateCounter`. Instead of returning a single function as we saw\n",
    "earlier, it actually returns an object which contains 3 functions. Two of these\n",
    "functions call the `ChangeBy` function, and as a result have access to\n",
    "`privateCounter` through the magic of closure."
   ]
  },
  {
   "cell_type": "markdown",
   "metadata": {
    "slideshow": {
     "slide_type": "slide"
    }
   },
   "source": [
    "We can now create a new counter\n",
    "and use any of these methods:"
   ]
  },
  {
   "cell_type": "code",
   "execution_count": 14,
   "metadata": {},
   "outputs": [
    {
     "name": "stdout",
     "output_type": "stream",
     "text": [
      "1\n",
      "2\n",
      "1\n",
      "undefined\n"
     ]
    }
   ],
   "source": [
    "var counter1 = makeCounter();\n",
    "counter1.increment();\n",
    "counter1.value();\n",
    "counter1.increment();\n",
    "counter1.value();\n",
    "counter1.decrement();\n",
    "counter1.value();\n",
    "console.log(counter1.privateCounter);"
   ]
  },
  {
   "cell_type": "markdown",
   "metadata": {},
   "source": [
    "We could then even create anoter counter if we wanted to, and it would not be\n",
    "affected be the first one, even though they both start with the same initial\n",
    "value"
   ]
  },
  {
   "cell_type": "code",
   "execution_count": 15,
   "metadata": {},
   "outputs": [
    {
     "name": "stdout",
     "output_type": "stream",
     "text": [
      "-1\n",
      "-2\n",
      "-3\n"
     ]
    }
   ],
   "source": [
    "var counter2 = makeCounter();\n",
    "counter2.decrement();\n",
    "counter2.value();\n",
    "counter2.decrement();\n",
    "counter2.value();\n",
    "counter2.decrement();\n",
    "counter2.value();"
   ]
  },
  {
   "cell_type": "markdown",
   "metadata": {},
   "source": [
    "Notice of course that neither `counter1` or `counter2` has direct access to the `privateCounter`\n",
    "variable, if you tried to run `console.log(counter1.privateCounter)` it would return `undefined`. Instead the two counter objects have to go through the `value` function. Using closures in this way is sometimes known the _module pattern_. \n",
    "\n",
    "__Exercise__\n",
    "\n",
    "Write a function called `makeDamageCounter` that uses closure to return a new function that can count how much damage a specific adventurer takes during an encounter with a goblin.   \n",
    "\n",
    "One of the reasons closure and JavaScript are so closely associated with each\n",
    "other is that it's not possible in many other languages: \n",
    "\n",
    ">In JavaScript, if you use the function keyword inside another function, you are creating a closure. In C and most other common languages, after a function returns, all the local variables are no longer accessible because the  stack-frame is destroyed. In JavaScript, if you declare a function within another function, then the local variables can remain accessible after returning from the function you called.\n",
    "\n",
    "-- [StackOverflow](https://stackoverflow.com/a/111111)\n"
   ]
  },
  {
   "cell_type": "markdown",
   "metadata": {},
   "source": [
    "# 3: The `this` Keyword and Constructor Functions\n",
    "\n",
    "\n",
    "Let's say you create a new object, fido:"
   ]
  },
  {
   "cell_type": "code",
   "execution_count": 16,
   "metadata": {
    "attributes": {
     "classes": [
      "javascript"
     ],
     "id": ""
    }
   },
   "outputs": [],
   "source": [
    "var fido = {\n",
    "  name: \"fido\",\n",
    "  barkCount: 0     \n",
    "};"
   ]
  },
  {
   "cell_type": "markdown",
   "metadata": {},
   "source": [
    "You like having fido around so much you decide to create another very similiar\n",
    "object, lassie:"
   ]
  },
  {
   "cell_type": "code",
   "execution_count": 17,
   "metadata": {
    "attributes": {
     "classes": [
      "javascript"
     ],
     "id": ""
    }
   },
   "outputs": [],
   "source": [
    "var lassie = {\n",
    "  name: \"lassie\",\n",
    "  barkCount: 0     \n",
    "};"
   ]
  },
  {
   "cell_type": "markdown",
   "metadata": {},
   "source": [
    "This is great and all, but in practice, you probably don't want to be lovingly\n",
    "handmaking artisnal objects one-by-one; you want some automation. Fortunately we\n",
    "can create a single constructor function that will take care of that for us:"
   ]
  },
  {
   "cell_type": "code",
   "execution_count": 18,
   "metadata": {
    "attributes": {
     "classes": [
      "javascript"
     ],
     "id": ""
    }
   },
   "outputs": [],
   "source": [
    "var Dog = function(name,barkCount) {\n",
    "  this.name = name;\n",
    "  this.barkCount = barkCount;\n",
    "}"
   ]
  },
  {
   "cell_type": "markdown",
   "metadata": {},
   "source": [
    "With this handy function we can create as many Dog-like obects as we want with:"
   ]
  },
  {
   "cell_type": "code",
   "execution_count": 19,
   "metadata": {
    "attributes": {
     "classes": [
      "javascript"
     ],
     "id": ""
    }
   },
   "outputs": [
    {
     "name": "stdout",
     "output_type": "stream",
     "text": [
      "Dog { name: 'fido', barkCount: 0 }\n"
     ]
    }
   ],
   "source": [
    "var fido = new Dog('fido',0);\n",
    "\n",
    "console.log(fido);"
   ]
  },
  {
   "cell_type": "markdown",
   "metadata": {},
   "source": [
    "This may be the first time you've encountered the `this` keyword. It's a powerful idea that, like most things in JavaScript, has a few quirks to it.\n",
    "\n",
    "In JavaScript `this` is a special keyword used inside functions to refer back to the object/context that invoked the function. Much like the actual English word, `this` can be thought of sort of like a programming pronoun. Instead of referring to another noun though, it refers to another object. This is especially helpful when you want to refer to an object that might not exist yet. \n",
    "\n",
    "Let's take a look again at that `Dog` function to see what I mean.\n"
   ]
  },
  {
   "cell_type": "code",
   "execution_count": 20,
   "metadata": {},
   "outputs": [],
   "source": [
    "var Dog = function(name,barkCount) {\n",
    "  this.name = name;\n",
    "  this.barkCount = barkCount;\n",
    "}\n",
    "\n",
    "var fido = new Dog('fido',0);"
   ]
  },
  {
   "cell_type": "markdown",
   "metadata": {},
   "source": [
    "The `this` keyword acts as a placeholder. You're saying \"whatever new object is created from running this constructor function, assign it a `name` property equal to the name parameter, and a `barkCount` property equal to the `barkCount` parameter\". This is helpful because the new object doesn't actually exist yet.\n",
    "\n",
    "Also don't forget the difference between parameters and properties in these examples. We use the same name to make them easier to track but they're separate things:"
   ]
  },
  {
   "cell_type": "code",
   "execution_count": 21,
   "metadata": {},
   "outputs": [],
   "source": [
    "var Dog = function(fartz_parameter,buttz_parameter) {\n",
    "  this.name = fartz_parameter;\n",
    "  this.barkCount = buttz_parameter;\n",
    "}"
   ]
  },
  {
   "cell_type": "markdown",
   "metadata": {},
   "source": [
    "The above function works just as well as the previous version, it just has more buttz and fartz in its parameters.\n",
    "\n",
    "__Exercise__\n",
    "\n",
    "Write a constructor function that takes at least two parameters.\n",
    "\n",
    "The `this` keyword can also be helpful when assigning functions to an object: "
   ]
  },
  {
   "cell_type": "code",
   "execution_count": 22,
   "metadata": {},
   "outputs": [
    {
     "name": "stdout",
     "output_type": "stream",
     "text": [
      "barkcount is 1\n",
      "barkcount is 2\n"
     ]
    }
   ],
   "source": [
    "var puppy = {\n",
    "  name: \"fido\",\n",
    "  barkCount: 0,\n",
    "  bark: function(){\n",
    "    this.barkCount += 1;\n",
    "    console.log(\"barkcount is \" + this.barkCount);\n",
    "  }\n",
    "}\n",
    "\n",
    "puppy.bark();\n",
    "puppy.bark();"
   ]
  },
  {
   "cell_type": "markdown",
   "metadata": {},
   "source": [
    "## Invocation Rules\n",
    "\n",
    "In the above example, the `this` in the `bark` function refers to `puppy`, which is pretty straightforward. There are however instances when things can get complicated and it can be tough to figure out what object `this` is pointing to. Let's go over some examples. \n",
    "\n",
    "First, just to review let's look at two straightforward examples again:\n",
    "\n",
    "Here the `this` in the `bark` function refers to the `fido` object:"
   ]
  },
  {
   "cell_type": "code",
   "execution_count": 23,
   "metadata": {},
   "outputs": [
    {
     "name": "stdout",
     "output_type": "stream",
     "text": [
      "barkcount is 1\n"
     ]
    }
   ],
   "source": [
    "var fido = {\n",
    "  name: \"fido\",\n",
    "  barkCount: 0,\n",
    "  bark: function(){\n",
    "    this.barkCount += 1;\n",
    "    console.log(\"barkcount is \" + this.barkCount);\n",
    "  }\n",
    "}\n",
    "fido.bark();"
   ]
  },
  {
   "cell_type": "markdown",
   "metadata": {},
   "source": [
    "In the next example, `this` refers to the new `puppy` object that's created:"
   ]
  },
  {
   "cell_type": "code",
   "execution_count": 24,
   "metadata": {},
   "outputs": [],
   "source": [
    "var Dog = function(name,barkCount) {\n",
    "  this.name = name;\n",
    "  this.barkCount = barkCount;\n",
    "}\n",
    "var puppy = new Dog();"
   ]
  },
  {
   "cell_type": "markdown",
   "metadata": {},
   "source": [
    "So far that's all pretty cut and dry, but what happens when you create a new object that refers to an existing object's inner functions? \n",
    "Let's say for example that you want to create a new `fido_bark()` function that refers back to `fido.bark()`"
   ]
  },
  {
   "cell_type": "code",
   "execution_count": 25,
   "metadata": {},
   "outputs": [
    {
     "name": "stdout",
     "output_type": "stream",
     "text": [
      "barkcount is NaN\n"
     ]
    }
   ],
   "source": [
    "var fido = {\n",
    "  name: \"fido\",\n",
    "  barkCount: 0,\n",
    "  bark: function(){\n",
    "    this.barkCount += 1;\n",
    "    console.log(\"barkcount is \" + this.barkCount);\n",
    "  }\n",
    "}\n",
    "var fido_bark = fido.bark;\n",
    "fido_bark();"
   ]
  },
  {
   "cell_type": "markdown",
   "metadata": {},
   "source": [
    "Obviously, that's not what we wanted to happen. What's going on is that the `this` in the `fido.bark()` function will refer to the next context \"up\" whenever it is called. In the case  of `fido_bark()` it would be the the **Window** (or in a node app, the **Global**) object, which may not be what you want. \n",
    "\n",
    "Although this seem a little confusing, an easy way to think of it is that generally speaking, the `this` keyword only cares about how it is called, not how it was defined. In the example above that means that `fido_bark` is in the global/window context, while `fido.bark` is in the `fido` context.\n",
    "\n",
    "## `call` and `apply`\n",
    "\n",
    "Fortunately you can avoid the issue above by using the `call` and `apply` functions, which allow you to explicitly set which context you which to run code: "
   ]
  },
  {
   "cell_type": "code",
   "execution_count": 26,
   "metadata": {},
   "outputs": [
    {
     "name": "stdout",
     "output_type": "stream",
     "text": [
      "barkcount is 1\n"
     ]
    }
   ],
   "source": [
    "var fido = {\n",
    "  name: \"fido\",\n",
    "  barkCount: 0,\n",
    "  bark: function(){\n",
    "    this.barkCount += 1;\n",
    "    console.log(\"barkcount is \" + this.barkCount);\n",
    "  }\n",
    "}\n",
    "\n",
    "var fido_bark = fido.bark;\n",
    "fido_bark.call(fido);"
   ]
  },
  {
   "cell_type": "markdown",
   "metadata": {},
   "source": [
    "As you can see, we're manually telling the `bark` function that we want it to run with the context of `fido`, rather than Global, which is what it would use by default.\n",
    "\n",
    "If the `fido_bark` function took any parameters you could pass them in after the first object:\n",
    "\n",
    "`fido_bark.call(fido,one_parameter,two_parameter);`\n",
    "\n",
    "\n",
    "`apply` is very similar to `call`, the chief difference is that instead of passing in any needed parameters as comma separated list you pass them in as an array.\n",
    "\n",
    "`fido_bark.apply(fido,[one_parameter,two_parameter]);`"
   ]
  },
  {
   "cell_type": "markdown",
   "metadata": {},
   "source": [
    "__Exercise__\n",
    "\n",
    "1. Write a new function, `hi` that logs the line `\"Hello, my name is \" + this.name` \n",
    "2. Create two new objects with a `name` property, `Joe` and `Shmoe`.\n",
    "3. Use `call` to run `hi` for each object."
   ]
  },
  {
   "cell_type": "markdown",
   "metadata": {},
   "source": [
    "## `bind`\n",
    "\n",
    "As you can see, `call`/`apply` help you avoid some issues with `this`. One downside with them though is that you have to specify the proper context every time you call a function with them. This can end up being a bit verbose and redundant over time. Fortunately, `bind` can be used to help with this issue. It's used to permanently set the context of a function ahead of time, for invocation later on:"
   ]
  },
  {
   "cell_type": "code",
   "execution_count": 27,
   "metadata": {},
   "outputs": [
    {
     "name": "stdout",
     "output_type": "stream",
     "text": [
      "My name is  fido\n"
     ]
    }
   ],
   "source": [
    "var fido = {\n",
    "  name: \"fido\",\n",
    "  bark: function () {\n",
    "  console.log(\"My name is  \" + this.name);\n",
    "  }\n",
    "}\n",
    "\n",
    "var fido_bark = fido.bark.bind(fido);\n",
    "fido_bark();"
   ]
  },
  {
   "cell_type": "code",
   "execution_count": 28,
   "metadata": {},
   "outputs": [
    {
     "name": "stdout",
     "output_type": "stream",
     "text": [
      "My name is  bingo\n"
     ]
    }
   ],
   "source": [
    "var bingo = {\n",
    "  name: \"bingo\"\n",
    "}\n",
    "\n",
    "bingo.bark = fido.bark.bind(bingo);\n",
    "bingo.bark();"
   ]
  },
  {
   "cell_type": "markdown",
   "metadata": {},
   "source": [
    "So as you can see, using `call` or `apply` invokes the `bark` function right away, but `bind` is used to create a new function with the proper context permanently set. This technique is sometimes called \"function borrowing\"."
   ]
  },
  {
   "cell_type": "markdown",
   "metadata": {},
   "source": [
    "__Exercise__\n",
    "\n",
    "Using your code from the `call` exercise above, Use `bind` to create two dedicated functions `hiJoe` and `hiShmoe` that run the `hi` function for each of those objects."
   ]
  },
  {
   "cell_type": "markdown",
   "metadata": {},
   "source": [
    "# 4: Inheritance\n",
    "\n",
    "Inheritance is a key concept in any object-oriented programming language. Although the implementation details can vary considerably from language to language, the essential idea behind inheritance is relatively simple: message delegation. The following quote from Sandi Metz's _Practical Object-Oriented Design_ sums it up pretty succinctly:\n",
    "\n",
    "> Inheritance is, at its core, a mechanism for automatic message delegation. It defines a forwarding path for not-understood messages. It creates relationships such that, if one object cannot respond to a received message, it delegates that message to another.(106)\n",
    "\n",
    "This is the core of what inheritance is all about. If one object doesn't know how to respond to a property or method call, we check its parent object, if the parent object doesn't know how to respond, we check the next level up, and so on and so on. As we'll see today, the actual implementation details can get pretty complex pretty quickly, but it's important to keep in mind that the core of this concept is relatively straightforward.\n",
    "\n",
    "## Classical vs. Prototypal Inheritance\n",
    "\n",
    "Class-based inheritance systems are much more common than prototypal systems, so it might be helpful to quickly distinguish the two. Let's review classical inheritance briefly and then contrast it with a prototypal system. \n",
    "\n",
    "### Classical Inheritance\n",
    "\n",
    "Class-based object-oriented languages, such as Ruby or Python, primarily use two main types of abstractions to represent the world:\n",
    "- objects: A specific instance of something. An email, a cake, a customer help request, etc.\n",
    "- classes: A generalization of a type of object. They hold shared properties and functions common to all of those objects. \n",
    "\n",
    "In Ruby all objects belong to a class, from which they inherit properties and methods. Classes in turn can inherit things from another class. This hierarchy of `class -> subclass -> object` creates what's known as a _inheritance chain_ or _inheritance path_. \n",
    "\n",
    "Let's take a look at this concept using the example of cake. Say I have an ice cream cake in the freezer, we'll refer to it as `myBirtdayCake`. This specific cake is an instance of the `IceCreamCake` class. It shares certain basic properties that all members of the `IceCreamCake` have in common. The `IceCreamCake` class is in turn actually a subclass of the larger `Cake` class, as it inherits many properties from that superclass.\n",
    "\n",
    "| Name | Type | Comments |\n",
    "| :--- | :--- | :---: |\n",
    "| Cake | class | The base class, and in this instance, a superclass of IceCreamCake |\n",
    "| IceCreamCake | class | a subclass of Cake. Can also be said to _extend_ the Cake class |\n",
    "| myBirthdayCake | object  | an instance of the IceCreamCake class.|\n",
    "\n",
    "On a superficial level, you might think of a class as a blueprint, or recipe, for a type of objects. In the same way that you use an actual ice cream cake recipe to create a real-world ice cream cake, you can use the `IceCreamCake` class to create an `IceCreamCake` object like `myBirthdayCake`.\n",
    "\n",
    "Cake recipes are of course just a set of instructions, they're not made of flour and sugar. Similarly, the `Cake` class is not a `Cake` object, it's just a set of instructions on how to make `Cake` objects. This may seem like an odd aspect to highlight, but as we'll see in a moment, this metaphor doesn't quite work with prototypal languages.\n",
    "\n",
    "### Prototypal Inheritance\n",
    "\n",
    "JavaScript, as a prototype-based language, lacks the concept of classes\\*, as such the only abstraction it has at its disposal is objects. The need to share common properties and methods across similar objects still exists though, and JavaScript accomplishes this by designating certain objects as __prototypes__ of others. An object will inherit all properties of its prototype, similar to how an object in Ruby or Python inherits the properties of the class it belongs to. Let's take a look at this in action by returning to our example of `Cake -> IceCreamCake -> myBirthdayCake`.\n",
    "\n",
    "<sub>*Although ES6 did introduce the `class` syntax, it's effectively syntactical sugar over JavaScript's prototype system, as we'll see later. </sub>\n",
    "\n",
    "First let's define a cake object:"
   ]
  },
  {
   "cell_type": "code",
   "execution_count": 29,
   "metadata": {},
   "outputs": [],
   "source": [
    "var cake = {\n",
    "  ingredients: ['flour','sugar','eggs','butter','baking powder', 'milk'], \n",
    "  flavor:'vanilla'\n",
    "  };"
   ]
  },
  {
   "cell_type": "markdown",
   "metadata": {},
   "source": [
    "Now let's define an IceCreamCake object that has a `ice_cream_flavor` property:"
   ]
  },
  {
   "cell_type": "code",
   "execution_count": 30,
   "metadata": {},
   "outputs": [],
   "source": [
    "var iceCreamCake = {\n",
    "  ice_cream_flavor: \"chocolate\"\n",
    "  };"
   ]
  },
  {
   "cell_type": "markdown",
   "metadata": {},
   "source": [
    "Right now these are just two plain ol' objects that aren't connected to each other in any way. Let's change that by declaring that `iceCreamCake`'s prototype is `cake`. Once we do that `iceCreamCake` will have access to `cake`'s properties as if they were its own."
   ]
  },
  {
   "cell_type": "code",
   "execution_count": 31,
   "metadata": {},
   "outputs": [
    {
     "name": "stdout",
     "output_type": "stream",
     "text": [
      "The first ingredient in iceCreamCake is flour\n"
     ]
    }
   ],
   "source": [
    "iceCreamCake.__proto__ = cake;\n",
    "console.log(`The first ingredient in iceCreamCake is ${iceCreamCake.ingredients[0]}`)"
   ]
  },
  {
   "cell_type": "markdown",
   "metadata": {},
   "source": [
    "Now that we have the `cake -> iceCreamCake` relationship defined we can create a `myBirthdayCake` object that inherits from both:"
   ]
  },
  {
   "cell_type": "code",
   "execution_count": 32,
   "metadata": {},
   "outputs": [
    {
     "name": "stdout",
     "output_type": "stream",
     "text": [
      "My birthday cake is strawberry with chocolate ice cream \n"
     ]
    }
   ],
   "source": [
    "var myBirthdayCake = {};\n",
    "myBirthdayCake.__proto__ = iceCreamCake;\n",
    "myBirthdayCake.flavor = 'strawberry';\n",
    "console.log(`My birthday cake is ${myBirthdayCake.flavor} with ${myBirthdayCake.ice_cream_flavor} ice cream `)"
   ]
  },
  {
   "cell_type": "markdown",
   "metadata": {},
   "source": [
    "Objects designated as prototypes are still just plain 'ol objects, all that differs is how their `prototype` property has been assigned. Let's take a look at how our cake inheritance chain might look under this system.\n",
    "\n",
    "| Name | Type | Comments |\n",
    "| --- | --- | --- |\n",
    "| cake | object | The prototype of `iceCreamCake`  |\n",
    "| iceCreamCake | object | The child of `cake`, and the prototype of `myBirthdayCake`  |\n",
    "| myBirthdayCake | object  | The child of `iceCreamCake` |\n",
    "\n",
    "\n",
    "Note that our metaphor earlier about a class in Ruby being like a blueprint or receipe doesn't really work with JavaScript prototypes. Every level of our inheritance chain is an object. The `cake` object at the top of our chain is a plain ol' object just like the `myBirthdayCake` object at the end. `cake` less like a blueprint or receipe and more like a parent or grandparent. "
   ]
  },
  {
   "cell_type": "markdown",
   "metadata": {},
   "source": [
    "__Super Secret Pro-Tip: Object.create()__\n",
    "\n",
    "Creating an object and _then_ designating its prototype is kind of verbose. Here's a handy tip to do both in one line: `Object.create()`"
   ]
  },
  {
   "cell_type": "markdown",
   "metadata": {},
   "source": [
    "This:"
   ]
  },
  {
   "cell_type": "code",
   "execution_count": null,
   "metadata": {},
   "outputs": [],
   "source": [
    "var myBirthdayCake = {};\n",
    "myBirthdayCake.__proto__ = iceCreamCake;"
   ]
  },
  {
   "cell_type": "markdown",
   "metadata": {},
   "source": [
    "Is equivalent to:"
   ]
  },
  {
   "cell_type": "code",
   "execution_count": 34,
   "metadata": {},
   "outputs": [],
   "source": [
    "var myBirthdayCake = Object.create(iceCreamCake);"
   ]
  },
  {
   "cell_type": "markdown",
   "metadata": {},
   "source": [
    "__Exercise__\n",
    "\n",
    "Create a three level inheritance chain of `Prototype -> Child-Prototype -> Child-Object` similiar to `Cake -> IceCreamCake -> myBirthdayCake` examples above. Be sure to include a console line or function that demonstrates inherited properties."
   ]
  },
  {
   "cell_type": "markdown",
   "metadata": {},
   "source": [
    "### The Need for Design patterns in JavaScript\n",
    "\n",
    "As we've mentioned before, JavaScript lacks a lot of the abstractions present in other object-oriented languages for structuring inheritance chains and reusing code. It doesn't have classes, modules, structs or anything like that; all it has is objects and functions. Also unlike many class-based languages, objects in JavaScript don't have to be part of any class or inheritance chain. A result of this spartan approach is that JavaScript is much more flexible and agnostic about how you organize your code. Consequently there are a number of different patterns that have emerged in the JS community for how to structure your inheritance. For example, the examples you learned above illustrate part of the _Prototype Pattern_. The next approarch we're going to look at is what's known as the _Constructor Pattern_"
   ]
  },
  {
   "cell_type": "markdown",
   "metadata": {},
   "source": [
    "## Constructor Pattern\n",
    "\n",
    "At this point you should be familiar with constructor functions:"
   ]
  },
  {
   "cell_type": "code",
   "execution_count": 35,
   "metadata": {},
   "outputs": [],
   "source": [
    "function Monster(name,color){\n",
    "  this.name = name;\n",
    "  this.color = color;\n",
    "}\n",
    "\n",
    "var bigfoot = new Monster('bigfoot','brown');"
   ]
  },
  {
   "cell_type": "markdown",
   "metadata": {},
   "source": [
    "If you check the `__proto__` property of any objects created from a constructor function you'll discover that it's been set to the name of the constructor function plus an empty object:"
   ]
  },
  {
   "cell_type": "code",
   "execution_count": 36,
   "metadata": {},
   "outputs": [
    {
     "name": "stdout",
     "output_type": "stream",
     "text": [
      "Monster {}\n"
     ]
    }
   ],
   "source": [
    "console.log(bigfoot.__proto__);"
   ]
  },
  {
   "cell_type": "markdown",
   "metadata": {},
   "source": [
    "All functions have a special `prototype` property in addition to their `__proto__` property.  A function's `prototype` is the object instance that will become the prototype for all objects created using this function as a constructor. By default it's empty, but it's not hard to add any properties you want to it, which all child objects will then inherit, just like any prototype/child relationship. "
   ]
  },
  {
   "cell_type": "code",
   "execution_count": 37,
   "metadata": {},
   "outputs": [
    {
     "name": "stdout",
     "output_type": "stream",
     "text": [
      "Monster { eyes: 2 }\n",
      "2\n"
     ]
    }
   ],
   "source": [
    "Monster.prototype.eyes = 2;\n",
    "\n",
    "console.log(bigfoot.__proto__);\n",
    "console.log(bigfoot.eyes);"
   ]
  },
  {
   "cell_type": "markdown",
   "metadata": {},
   "source": [
    "As you can see, because of the nature of inheritance, editing a constructor's `prototype` affects all child objects, even those already created. \n",
    "\n",
    "\n",
    "### Approximating classes in JavaScript\n",
    "\n",
    "By using constructor functions and prototypes together you can kinda create a pseudo-class:"
   ]
  },
  {
   "cell_type": "code",
   "execution_count": 38,
   "metadata": {},
   "outputs": [
    {
     "name": "stdout",
     "output_type": "stream",
     "text": [
      "Hello, I'm Harry\n"
     ]
    }
   ],
   "source": [
    "function Monster(name,color){\n",
    "    this.name = name;\n",
    "    this.color = color;\n",
    "};\n",
    "Monster.prototype.greet = function(){\n",
    "    console.log(\"Hello, I'm \" + this.name);\n",
    "};\n",
    "\n",
    "var wolfman = new Monster('Harry','brown');\n",
    "wolfman.greet();"
   ]
  },
  {
   "cell_type": "markdown",
   "metadata": {},
   "source": [
    "It may not be pretty, but the code above provides much the same functionality as a class in a more traditionally object-oriented language like Ruby.* The `Monster` function works similarly to an `initialize` method in Ruby classes. You use it to define properties and functions unique to each specific object created. The `prototype` is then where you define any class properties and functions that should be shared amongst all child objects. \n",
    "\n",
    "<sub>Check out [this link](https://gist.github.com/pca2/98a795d0ebdde9f4ba6b63ccd85fba3f) for how the above code might look in Ruby.</sub>"
   ]
  },
  {
   "cell_type": "markdown",
   "metadata": {},
   "source": [
    "__Exercise__\n",
    "\n",
    "Using the above code as an example, create a `Person` constructor with at least one function on its `prototype`. Afterwards, create a child object that demonstrates the shared function."
   ]
  },
  {
   "cell_type": "markdown",
   "metadata": {},
   "source": [
    "### Multi-level Inheritance with the Constructor Pattern\n",
    "\n",
    "So the above example works is approximating a basic class, but in order to achieve multi-level inheritance similar to the `Cake -> IceCreamCake -> myBirthdayCake` example we used above, we'll need to make a few changes to our code. Let's try making a `Goblin` class that extends `Monster`"
   ]
  },
  {
   "cell_type": "code",
   "execution_count": 39,
   "metadata": {},
   "outputs": [
    {
     "name": "stdout",
     "output_type": "stream",
     "text": [
      "Hello, I'm Osborn\n"
     ]
    }
   ],
   "source": [
    "function Goblin(name,color,weapon){\n",
    "    Monster.call(this,name,color);\n",
    "    this.weapon = weapon;\n",
    "    \n",
    "}\n",
    "Goblin.prototype = Object.create(Monster.prototype);\n",
    "Goblin.prototype.constructor = Goblin;\n",
    "\n",
    "var osborn = new Goblin('Osborn','Green','Bombs');\n",
    "\n",
    "osborn.greet();"
   ]
  },
  {
   "cell_type": "markdown",
   "metadata": {},
   "source": [
    "There's three key lines above that establish the parent/child relationship between `Monster` and `Goblin`. \n",
    "\n",
    "- `Monster.call(this,name,color)` (line 2)\n",
    "   \n",
    "   The `Goblin` function is a constructor just like the `Monster` function. As a extension of `Monster` it also needs to run the `Monster` constructor, this is accomplished with the `Monster.call` line. In addition to `name` and `color` from `Monster` you can add any additional properties you want to pass in, such as `weapon`, and it'll be added to any child objects. \n",
    "   Hopefully you'll recall how the `call` function works from our previous section on constructors and the `this` keyword. It allows you to call a function and manually specify the context in which it will run, which affects any `this` keywords used.\n",
    "   The `this` keyword in constructor functions generally refer to any new objects created, `Monster.call(this,name,color)` is no exception. We're saying that the first thing the `Goblin` function should do is run the `Monster` function on the new object being created.\n",
    "   \n",
    "  If you're familiar with the `super` method in Ruby, you can think of this line as serving a similar purpose.\n",
    "\n",
    "\n",
    "- `Goblin.prototype = Object.create(Monster.prototype)` (line 6)\n",
    "    \n",
    "    This line also contains some elements you should recognize. As we learned above, a function's prototype is the object instance that will become the prototype for all objects created using this function as a constructor. `Object.create` creates a new object with the parameter object set as the prototype. So essentially we're saying that the  `Goblin` prototype should inherit everything from the `Monster` prototype as well. This is how the `Osborn` object also has access to the `greet` function added to the `Monster` prototype. This relationship of course does not prevent us from adding unique properties to the `Goblin` prototype. \n",
    "   \n",
    "   \n",
    "- `Goblin.prototype.constructor = Goblin` (line 7)    \n",
    "\n",
    "  This line is something you may not have encountered before. `constructor` is a hidden property that all JavaScript objects have by default. It returns a reference to the constructor function that created the object in question. When working with multi-level inheritance in the constructor pattern, the `constructor` property can be a handy way of checking the constructor of a given object, which serves a similar role as checking an object's class in a more traditionally object-oriented language. The catch is that when we set the `Goblin` prototype to `Monster.prototype` we also set the `constructor` to `Monster`. As a result we have to manually set it to `Goblin`, which is what we're doing here.\n",
    "\n",
    "\n",
    "__Exercise__\n",
    "\n",
    "Using what you've learned above create a `Class -> Subclass -> ChildObject` inheritance chain with at least one function. Use whatever real-life model you want. Some ideas: `Car -> Convertible` or `Goblin -> Hobgoblin`"
   ]
  },
  {
   "cell_type": "markdown",
   "metadata": {},
   "source": [
    "### Class Syntax: Prototypal Inheritance with a thin candy-shell\n",
    "\n",
    "You now know how to replicate much of the functionality of classes using JavaScript's constructor functions and prototypes. However, it's important to remember that __JavaScript still does not posses a true class system__. As we'll soon see, the `class` syntax introduced in ES6 is essentially just syntatic sugar over the constructor and prototype syntax we've examined. This is why I wanted to demonstrate the older syntax before diving into the `class` keyword.\n",
    "\n",
    "The following code samples are effectively identical:\n",
    "\n",
    "__Class syntax__"
   ]
  },
  {
   "cell_type": "code",
   "execution_count": null,
   "metadata": {
    "cell_style": "center"
   },
   "outputs": [],
   "source": [
    "class Monster {\n",
    "  constructor(name,color){\n",
    "    this.name = name;\n",
    "    this.color = color;\n",
    "  }\n",
    "  greet(){\n",
    "    console.log(\"Hello, I'm \" + this.name);\n",
    "  }\n",
    "}\n",
    "\n",
    "class Goblin extends Monster{\n",
    "  constructor(name,color,weapon){\n",
    "    super(name,color);\n",
    "    this.weapon = weapon;\n",
    "  }\n",
    "}\n"
   ]
  },
  {
   "cell_type": "markdown",
   "metadata": {},
   "source": [
    "__Constructor Syntax__"
   ]
  },
  {
   "cell_type": "code",
   "execution_count": null,
   "metadata": {
    "cell_style": "split"
   },
   "outputs": [],
   "source": [
    "function Monster(name,color){\n",
    "    this.name = name;\n",
    "    this.color = color;\n",
    "};\n",
    "Monster.prototype.greet = function(){\n",
    "    console.log(\"Hello, I'm \" + this.name);\n",
    "};\n",
    "\n",
    "function Goblin(name,color,weapon){\n",
    "    Monster.call(this,name,color);\n",
    "    this.weapon = weapon;\n",
    "    \n",
    "}\n",
    "Goblin.prototype = Object.create(Monster.prototype);\n",
    "Goblin.prototype.constructor = Goblin;"
   ]
  },
  {
   "cell_type": "markdown",
   "metadata": {},
   "source": [
    "Let's break down each of the key actions here:\n",
    "\n",
    "- The `constructor` function that leads off the `Monster` class is equivalent to the `Monster` constructor function that starts our constructor syntax example\n",
    "- The `greet` function in the body of the `Monster` class gets added to the `Monster` prototype, just like line 5 of the constructor syntax example\n",
    "- When we define `Goblin` as an extension of the `Monster` class on line 11 it automatically sets the `Goblin` prototype and constructor for us, meaning we don't have to set them manually, as we did on line 14 and line 15 of the constructor syntax example\n",
    "- The `super(name,color)` on line 13 of the class syntax example is roughly equivalent to the `Monster.call(this,name,color);` on line l0 of the constructor syntax example"
   ]
  },
  {
   "cell_type": "markdown",
   "metadata": {},
   "source": [
    "__Mixing Old and New__\n",
    "\n",
    "Because the class syntax is just syntatic sugar over the prototype system, you can frequently mix the two styles. For example, if you wanted to add another function to the `Monster` class after your initial definition the easiest might be to use the old prototype syntax:"
   ]
  },
  {
   "cell_type": "code",
   "execution_count": null,
   "metadata": {},
   "outputs": [],
   "source": [
    "Monster.prototype.sleep = function(){\n",
    "  constole.log(\"zzzzz\")\n",
    "};"
   ]
  },
  {
   "cell_type": "markdown",
   "metadata": {},
   "source": [
    "__When to use class syntax__\n",
    "\n",
    "If you're following the constructor pattern the class syntax is a lot cleaner and easier to read. So when would you want to use the older syntax? Well as part of ES6, it's not considered to have 100% adoption yet, so if you're writing plain JavaScript, and can't guarantee that all your users will have up-to-date browsers, it may be safer to use the older syntax still. \n",
    "\n",
    "If you're working in a node app, chances are you'll be working with a transpiler like [Babel](https://babeljs.io/), which can automatically convert your ES6 code to more universally compatible code. "
   ]
  },
  {
   "cell_type": "markdown",
   "metadata": {},
   "source": [
    "__Exercise__\n",
    "\n",
    "Take the multi-level inheritance code you wrote in the previous example and refactor it using class syntax"
   ]
  },
  {
   "cell_type": "markdown",
   "metadata": {},
   "source": [
    "## 5: Immediately Invoked Function Expression (IIFE)\n",
    "\n",
    "Because Javascript doesn't have explicit techniques for setting privacy and access levels, certain approaches have been developed to create effective privacy controls through certain patterns and workarounds. One such technique is known as the immediately invoked function expression or IIFE (Pronounced 'ifey')\n",
    "\n",
    "Here's a template:"
   ]
  },
  {
   "cell_type": "code",
   "execution_count": null,
   "metadata": {},
   "outputs": [],
   "source": [
    "(function () {\n",
    "    // code goes here\n",
    "})();"
   ]
  },
  {
   "cell_type": "markdown",
   "metadata": {},
   "source": [
    "Although that might look a bit scary, all it really is is a function that's immediately run, and not stored in memory for later use.\n",
    "\n",
    "Here's a (slightly contrived) example:"
   ]
  },
  {
   "cell_type": "code",
   "execution_count": 40,
   "metadata": {},
   "outputs": [
    {
     "name": "stdout",
     "output_type": "stream",
     "text": [
      "Psst! The secret number is 16\n"
     ]
    }
   ],
   "source": [
    "(function (){\n",
    "var secret_number = Math.floor(Math.random() * 101);\n",
    "console.log(`Psst! The secret number is ${secret_number}`) \n",
    "})()"
   ]
  },
  {
   "cell_type": "markdown",
   "metadata": {},
   "source": [
    "The above code is similar to the following:"
   ]
  },
  {
   "cell_type": "code",
   "execution_count": 41,
   "metadata": {},
   "outputs": [
    {
     "name": "stdout",
     "output_type": "stream",
     "text": [
      "Psst! The secret number is 8\n"
     ]
    }
   ],
   "source": [
    "var log_secret_number = function (){\n",
    "var secret_number = Math.floor(Math.random() * 101);\n",
    "  console.log(`Psst! The secret number is ${secret_number}`) \n",
    "};\n",
    "log_secret_number();"
   ]
  },
  {
   "cell_type": "markdown",
   "metadata": {},
   "source": [
    "So why use an IIFE? Well they can offer a few advantages in the right circumstances:\n",
    "\n",
    "1. __Privacy__: In the non-IIFE example immediately above, `log_secret_number` is exposed in the global name space, meaning that any other global object could call it again, which you probably don't want. Because it is immediately invoked you ensure it's invoked once and only once. Also because the `secret_number` variable is scoped to the IIFE function, it can't be accessed by anything else.\n",
    "2. __Memory/Performance__: The `log_secret_number` function is now in memory forever, even though it's not needed again. IIFEs are immediately cleaned up after use, freeing up memory.\n",
    "3. __Namespace__: Now that you've defined a `log_secret_number` function in the global namespace, there's always the possibility of collusion with another library or developer's work. Because nothing is exposed outside of the IIFE you ensure against this.\n",
    " "
   ]
  },
  {
   "cell_type": "markdown",
   "metadata": {},
   "source": [
    "__Exercise__ \n",
    "\n",
    "Write an IIFE statement of your own"
   ]
  },
  {
   "cell_type": "markdown",
   "metadata": {},
   "source": [
    "# 6: Spread Operator\n",
    "\n",
    "The spread operator (...) expands enumerables like Arrays to allow for easier manipulation of their content."
   ]
  },
  {
   "cell_type": "code",
   "execution_count": 42,
   "metadata": {},
   "outputs": [
    {
     "name": "stdout",
     "output_type": "stream",
     "text": [
      "[ 1, 2, 3 ]\n"
     ]
    }
   ],
   "source": [
    "var a = [1,2,3];\n",
    "console.log(a);"
   ]
  },
  {
   "cell_type": "code",
   "execution_count": 43,
   "metadata": {},
   "outputs": [
    {
     "name": "stdout",
     "output_type": "stream",
     "text": [
      "1 2 3\n"
     ]
    }
   ],
   "source": [
    "console.log(...a);"
   ]
  },
  {
   "cell_type": "markdown",
   "metadata": {},
   "source": [
    "This may not seem that powerful, but actually makes it much easier to manipulate and edit arrays. For example, in ES5, the easiest way to concatenate two arrays is probably to use the concat function:"
   ]
  },
  {
   "cell_type": "code",
   "execution_count": 44,
   "metadata": {},
   "outputs": [
    {
     "name": "stdout",
     "output_type": "stream",
     "text": [
      "[ 1, 2, 3, 4, 5, 6 ]\n"
     ]
    }
   ],
   "source": [
    "var a = [1,2,3];\n",
    "var b = [4,5,6];\n",
    "var a_and_b = a.concat(b);\n",
    "console.log(a_and_b);"
   ]
  },
  {
   "cell_type": "markdown",
   "metadata": {},
   "source": [
    "Here's how you'd do that with the spread operator it:"
   ]
  },
  {
   "cell_type": "code",
   "execution_count": 45,
   "metadata": {},
   "outputs": [],
   "source": [
    "var a = [1,2,3];\n",
    "var b = [4,5,6];\n",
    "var a_and_b = [...a,...b];"
   ]
  },
  {
   "cell_type": "markdown",
   "metadata": {},
   "source": [
    "Reordering or editing an array also becomes easier:"
   ]
  },
  {
   "cell_type": "code",
   "execution_count": 46,
   "metadata": {},
   "outputs": [
    {
     "name": "stdout",
     "output_type": "stream",
     "text": [
      "[ 0, 1, 2, 3, 4, 5 ]\n"
     ]
    }
   ],
   "source": [
    "var a = [1,2,3];\n",
    "var a = [0,...a,4,5];\n",
    "console.log(a);"
   ]
  },
  {
   "cell_type": "markdown",
   "metadata": {},
   "source": [
    "__Objects__\n",
    "\n",
    "Support for the spread operator has also been proposed for objects. It's not officially supported yet, but is widely expected to become part of an update to the language soon. In the meantime, you can use it if you use a transpiler such as Babel.\n",
    "\n",
    "The neat thing about the spread operator for objects is that it makes it real easy to clone objects, or make clones of object that differ slightly. Check it:"
   ]
  },
  {
   "cell_type": "code",
   "execution_count": 47,
   "metadata": {},
   "outputs": [
    {
     "name": "stdout",
     "output_type": "stream",
     "text": [
      "{ name: 'ME', age: 37 }\n"
     ]
    }
   ],
   "source": [
    "var me = {\n",
    "  name: \"ME\",\n",
    "  age: 37\n",
    "}\n",
    "var me_clone = {...me};\n",
    "console.log(me_clone);"
   ]
  },
  {
   "cell_type": "code",
   "execution_count": 48,
   "metadata": {},
   "outputs": [
    {
     "name": "stdout",
     "output_type": "stream",
     "text": [
      "{ name: 'you', age: 37 }\n"
     ]
    }
   ],
   "source": [
    "var you = {...me,name:'you'}\n",
    "console.log(you);"
   ]
  },
  {
   "cell_type": "markdown",
   "metadata": {},
   "source": [
    "__Exercise__  \n",
    "<sub>You'll probably need to head to the [Babel online editor](https://babeljs.io/repl/#?babili=false&browsers=&build=&builtIns=false&code_lz=Q&debug=false&circleciRepo=&evaluate=true&lineWrap=false&presets=latest%2Creact%2Cstage-2&prettier=false&targets=&version=6.26.0) to do this exercise</sub>\n",
    "\n",
    "Create any ol' object you want, and then create a clone with one property changed."
   ]
  }
 ],
 "metadata": {
  "kernelspec": {
   "display_name": "Javascript (Node.js)",
   "language": "javascript",
   "name": "javascript"
  },
  "language_info": {
   "file_extension": ".js",
   "mimetype": "application/javascript",
   "name": "javascript",
   "version": "8.9.1"
  },
  "toc": {
   "nav_menu": {
    "height": "385px",
    "width": "523px"
   },
   "number_sections": true,
   "sideBar": true,
   "skip_h1_title": false,
   "toc_cell": false,
   "toc_position": {},
   "toc_section_display": "block",
   "toc_window_display": false
  }
 },
 "nbformat": 4,
 "nbformat_minor": 2
}
