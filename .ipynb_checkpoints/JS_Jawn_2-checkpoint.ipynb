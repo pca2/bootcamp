{
 "cells": [
  {
   "cell_type": "markdown",
   "metadata": {},
   "source": [
    "# JavaScript Jawn Part 2\n",
    "\n",
    "## Section 1: let and const variables"
   ]
  },
  {
   "cell_type": "markdown",
   "metadata": {},
   "source": [
    "So far you've always been declaring variables with the `var` keyword, but there's actually other ways do define variables too, `let` and `const`\n",
    "\n",
    "First let's do a quick review of `var`. Two of the key properties of variables defined with var are that:\n",
    "\n",
    "1. They are scoped to the function in which they are declared, or if there is no function, the global frame.\n",
    "2. They are hoisted at compile time, meaning that they are allocated in memory as soon as the script loads.\n",
    "\n",
    "Here's an example:"
   ]
  },
  {
   "cell_type": "code",
   "execution_count": null,
   "metadata": {},
   "outputs": [],
   "source": [
    "console.log(\"before the block myVar equals \" + myVar);\n",
    "if (1 < 2){\n",
    "  var myVar = \"this is a var variable declared inside an if block\";\n",
    "  console.log(\"inside the block myVar equals \" + myVar);\n",
    "\n",
    "}\n",
    "console.log(\"after the if block myVar equals \" + myVar);"
   ]
  },
  {
   "cell_type": "markdown",
   "metadata": {},
   "source": [
    "### let \n",
    "\n",
    "You can also define variables using the keyword `let` instead of `var`. Here's how `let` variables differ:\n",
    "\n",
    "1. Thy are scoped to the __block__ in which they are declared. In addition to functions, this includes things like if statements and while/for loops.\n",
    "2. They are __not hoisted__ meaning that they do not exist in memory in any way until the interpreter gets to the line on which they are defined. \n",
    "\n",
    "Let's look at what happens if you swap out `var myVar` with `let myLet` in the code from above:"
   ]
  },
  {
   "cell_type": "code",
   "execution_count": null,
   "metadata": {},
   "outputs": [],
   "source": [
    "console.log(\"before the block myLet equals \" + myLet);\n",
    "if (1 < 2){\n",
    "    let myLet = \"this is a let variable declared inside an if block\";\n",
    "    console.log(\"inside the block myLet equals \" + myLet);\n",
    "}\n",
    "console.log(\"after the if block myLet equals \" + myLet);"
   ]
  },
  {
   "cell_type": "markdown",
   "metadata": {},
   "source": [
    "Because let variables are not hoisted, this code chunk will error on the first line and not continue\n",
    "\n",
    "Let's skip that first line though and see what we get:"
   ]
  },
  {
   "cell_type": "code",
   "execution_count": null,
   "metadata": {},
   "outputs": [],
   "source": [
    "if (1 < 2){\n",
    "    let myLet = \"this is a let variable declared inside an if block\";\n",
    "    console.log(\"inside the block myLet equals \" + myLet);\n",
    "}\n",
    "console.log(\"after the if block myLet equals \" + myLet);"
   ]
  },
  {
   "cell_type": "markdown",
   "metadata": {},
   "source": [
    "So as you can see, the `myLet` only existed in the if block. Unlike a `var` variable, it doesn't exist in any form outside of this block.\n",
    "\n",
    "In the right circumstances, `let` has several advantages over `var`, most notably performance. Because `let` variables are cleaned up after their block completes, they're no longer sitting around taking up memory. They're also great for temporary variables such as in loops, and allow for cleaner code. Consider the following:"
   ]
  },
  {
   "cell_type": "code",
   "execution_count": null,
   "metadata": {},
   "outputs": [],
   "source": [
    "var array = [1,2,3];\n",
    "\n",
    "for (var i = 0; i < array.length; i += 1) {\n",
    "  console.log(array[i]);\n",
    "}\n",
    "console.log(\"i is still equal to \" + i);"
   ]
  },
  {
   "cell_type": "markdown",
   "metadata": {},
   "source": [
    "We don't think about it, but `i` is still there in memory after the loop completes, taking up space, and possibly colluding with other loops. If we define `i` with `let` instead, it will be cleaned up as soon as the loop is over:"
   ]
  },
  {
   "cell_type": "code",
   "execution_count": null,
   "metadata": {},
   "outputs": [],
   "source": [
    "var i = undefined; //resetting from previous example\n",
    "var array = [1,2,3];\n",
    "\n",
    "for (let i = 0; i < array.length; i += 1) {\n",
    "  console.log(array[i]);\n",
    "}\n",
    "\n",
    "console.log(\"i is now \" + i);"
   ]
  },
  {
   "cell_type": "markdown",
   "metadata": {},
   "source": [
    "`let` can be especially helpful if you have multpile loops going at once. "
   ]
  },
  {
   "cell_type": "markdown",
   "metadata": {},
   "source": [
    "### const\n",
    "\n",
    "Variables defined with `const` are very similiar to `let` variables.\n",
    "\n",
    "1. Just like `let`, they are scoped to the __block__ in which they are declared. In addition to functions, this includes things like if statements and while/for loops.\n",
    "2. Just like `let`, they are __not hoisted__ meaning that they do not exist in memory in any way until the interpreter gets to the line on which they are defined. \n",
    "\n",
    "Plus a third rule:\n",
    "3. Variables defined with `const` will throw an error if you attempt to re-define them.\n"
   ]
  },
  {
   "cell_type": "code",
   "execution_count": null,
   "metadata": {},
   "outputs": [],
   "source": [
    "const name = \"Ralph\";\n",
    "console.log(\"In the global frame the name is \" + name);\n",
    "if (1 < 2){\n",
    "  const name = \"Sam\";\n",
    "  console.log(\"In this block name is \" + name);\n",
    "}\n",
    "console.log(\"Back in the global frame the name is \" + name);\n",
    "const name = \"Another name\";"
   ]
  },
  {
   "cell_type": "markdown",
   "metadata": {},
   "source": [
    "__Summary__\n",
    "\n",
    "| Type | Scope | Hoisting | Other |\n",
    "| --- | --- | --- | --- |\n",
    "|var |function|hoisted|N/A |\n",
    "|let | block |not hoisted|N/A |\n",
    "|const|block|not hoisted| error if re-defined|\n"
   ]
  },
  {
   "cell_type": "markdown",
   "metadata": {},
   "source": [
    "__Exercise__\n",
    "\n",
    "# tk\n",
    "--sucks--\n",
    "Given the following 2-D array, write a nested loop (a loop inside of a loop) that utilizes let variables to use only one loop variable\n",
    "\n",
    "```javascript\n",
    "var items = [\n",
    "  [1, 2],\n",
    "  [3, 4],\n",
    "  [5, 6]\n",
    "];\n",
    "```"
   ]
  },
  {
   "cell_type": "markdown",
   "metadata": {},
   "source": [
    "## Section 2: Closure\n",
    "\n",
    "As we know, JS has functional scope for variables defined with `var`. These variables are scoped to the function they are defined in, and if they're not defined inside a function, they're scoped to the global frame. Nested functions always have access to outer layers, but outer layers never have access to inner layers."
   ]
  },
  {
   "cell_type": "code",
   "execution_count": null,
   "metadata": {},
   "outputs": [],
   "source": [
    "function funcOne() {\n",
    "  var myString = \"This string is defined inside funcOne\";\n",
    "  function writeString() {\n",
    "    console.log(myString)\n",
    "  }\n",
    "  writeString();\n",
    "}\n",
    "\n",
    "funcOne();"
   ]
  },
  {
   "cell_type": "markdown",
   "metadata": {},
   "source": [
    "The code above is nothing you haven't seen before, but let's review what happens here because we're then going to build on this basic example:\n",
    "\n",
    "1. `funcOne` defines a variable, `myString`, and a function, `writeString`.\n",
    "2. `funcOne` then calls the `writeString` function.\n",
    "3. `writeString` simply logs the `variable` myString. Note that `writeString` has access to `myString` automatically thanks to JS's lexical scoping. `WriteString` doesn't define the variable nor is it passed in as a parameter.\n",
    "\n",
    "Let's change to code block above slightly to make use of closure:"
   ]
  },
  {
   "cell_type": "code",
   "execution_count": null,
   "metadata": {},
   "outputs": [],
   "source": [
    "function funcOne() {\n",
    "  var myString = \"This string is defined inside funcOne\";\n",
    "  function writeString() {\n",
    "\t  console.log(myString)\n",
    "\t}\n",
    "\treturn writeString;\n",
    "}\n",
    "\n",
    "var myFunc = funcOne();\n",
    "myFunc();"
   ]
  },
  {
   "cell_type": "markdown",
   "metadata": {},
   "source": [
    "Okay, so almost the same code as before, but now instead of `funcOne` defining and then running `writeString`, it now defines it and _returns_ the function itself. That means when we define `myFunc` as the result of `funcOne()`, we're essentially defining `myFunc` as the `writeString` nested function. Just as in the first example, `writeString` has access to the `myString` variable, but so does `myFunc`. \n",
    "\n",
    "The key thing to understand here is that when a function returns another function that is nested inside of it, you're not only returning the nested function, you're returning the __context in which the nested function was defined__. This is what's know as a closure. This is possible in JS because functions are _first-class objects_.\n",
    "\n",
    "One of the neat things that closures makes possible is functions that create other functions, but with the same initial conditions for every new instance. Let's take a look."
   ]
  },
  {
   "cell_type": "code",
   "execution_count": null,
   "metadata": {},
   "outputs": [],
   "source": [
    "var makeAdder = function(a) {\n",
    "  var adder = function(b) {\n",
    "  console.log(a + b)\n",
    "  }\n",
    "  return adder \n",
    "}\n",
    "\n",
    "var add5 = makeAdder(5);\n",
    "//the A parameter in the above code has been set to 5\n",
    "//You can now pass any number to add5 and it will add 5 to it\n",
    "\n",
    "add5(2);\n",
    "add5(7);"
   ]
  },
  {
   "cell_type": "code",
   "execution_count": null,
   "metadata": {},
   "outputs": [],
   "source": [
    "var add10 = makeAdder(10);\n",
    "//Now the A parameter has been set to 10.\n",
    "//You can now pass any number to add10 and 10 will be added to it\n",
    "\n",
    "add10(2);\n",
    "add10(7);\n"
   ]
  },
  {
   "cell_type": "markdown",
   "metadata": {},
   "source": [
    "Now that's neat and all, but maybe not the most practical example. Let's take a look at some instances where closures can be quite helpful.\n",
    "\n",
    "Closures allow you to mimic some of the features of object-oriented languages that JS lacks on its own. for example, private values. Let's take a look at an example:"
   ]
  },
  {
   "cell_type": "code",
   "execution_count": null,
   "metadata": {},
   "outputs": [],
   "source": [
    "var makeCounter = function() {\n",
    "  var privateCounter = 0;\n",
    "  function changeBy(val) {\n",
    "    privateCounter += val;\n",
    "    //console.log(privateCounter);  \n",
    "  }\n",
    "  return {\n",
    "    increment: function() {\n",
    "      changeBy(1);\n",
    "      console.log(privateCounter);  \n",
    "    },\n",
    "    decrement: function() {\n",
    "      changeBy(-1);\n",
    "      console.log(privateCounter);  \n",
    "    },\n",
    "    value: function() {\n",
    "      console.log(privateCounter);  \n",
    "    }\n",
    "  }  \n",
    "};"
   ]
  },
  {
   "cell_type": "markdown",
   "metadata": {},
   "source": [
    "This is very similiar to the other closures we saw above. `MakeCounter` defines an initial variable, `privateCounter`, and a function, `changeBy`, which has access to `privateCounter`. Instead of returning a single function as we saw earlier, it actually returns an object which contains 3 functions. Two of these functions call the `ChangeBy` function, and as a result have access to `privateCounter` through the magic of closure.\n",
    "\n",
    "We can now create a new counter and use any of these methods:"
   ]
  },
  {
   "cell_type": "code",
   "execution_count": null,
   "metadata": {},
   "outputs": [],
   "source": [
    "var counter1 = makeCounter();\n",
    "counter1.increment();\n",
    "counter1.increment();\n",
    "counter1.decrement();"
   ]
  },
  {
   "cell_type": "markdown",
   "metadata": {},
   "source": [
    "We could then even create anoter counter if we wanted to, and it would not be affected be the first one, even though they both start with the same initial value"
   ]
  },
  {
   "cell_type": "code",
   "execution_count": null,
   "metadata": {},
   "outputs": [],
   "source": [
    "var counter2 = makeCounter();\n",
    "counter2.decrement();\n",
    "counter2.decrement();\n",
    "counter2.decrement();"
   ]
  },
  {
   "cell_type": "markdown",
   "metadata": {},
   "source": [
    "Notice of course that neither counter has direct access to that privateCounter variable, they have to go through the value function. Using closures in this way is sometimes known the _module pattern_.\n",
    "\n",
    "__Excercise__\n",
    "\n",
    "TK\n",
    "\n",
    "Also: Pick relevant quote and add to the top? or bottom\n",
    ">Closures are useful because they let you associate some data (the lexical environment) with a function that operates on that data. This has obvious parallels to object oriented programming, where objects allow us to associate some data (the object's properties) with one or more methods. Consequently, you can use a closure anywhere that you might normally use an object with only a single method.\n",
    "\n",
    "-- https://developer.mozilla.org/en-US/docs/Web/JavaScript/Closures\n",
    " \n",
    "\n",
    ">In JavaScript, if you use the function keyword inside another function, you are creating a closure. In C and most other common languages, after a function returns, all the local variables are no longer accessible because the stack-frame is destroyed. In JavaScript, if you declare a function within another function, then the local variables can remain accessible after returning from the function you called...The magic is that in JavaScript a function reference also has a secret reference to the closure it was created in \n",
    "\n",
    ">In JavaScript, whenever you declare a function inside another function, the inside function(s) is/are recreated again each time the outside function is called\n",
    "\n",
    " -- https://stackoverflow.com/a/111111 \n",
    "\n",
    ">A closure is the combination of a function and the lexical environment within which that function was declared. This environment consists of any local variables that were in-scope at the time that the closure was created. \n",
    "\n",
    "-- https://developer.mozilla.org/en-US/docs/Web/JavaScript/Closures\n"
   ]
  },
  {
   "cell_type": "code",
   "execution_count": null,
   "metadata": {},
   "outputs": [],
   "source": []
  }
 ],
 "metadata": {
  "kernelspec": {
   "display_name": "Javascript (Node.js)",
   "language": "javascript",
   "name": "javascript"
  },
  "language_info": {
   "file_extension": ".js",
   "mimetype": "application/javascript",
   "name": "javascript",
   "version": "8.9.1"
  }
 },
 "nbformat": 4,
 "nbformat_minor": 2
}
