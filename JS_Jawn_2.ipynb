{
 "cells": [
  {
   "cell_type": "markdown",
   "metadata": {},
   "source": [
    "# JavaScript Jawn Part 2\n",
    "\n",
    "## Section 1: let and const variables"
   ]
  },
  {
   "cell_type": "markdown",
   "metadata": {},
   "source": [
    "So far you've always been declaring variables with the `var` keyword, but there's actually other ways do define variables too, `let` and `const`\n",
    "\n",
    "First let's do a quick review of `var`. Two of the key properties of variables defined with var are that:\n",
    "\n",
    "1. They are scoped to the function in which they are declared, or if there is no function, the global frame.\n",
    "2. They are hoisted at compile time, meaning that they are allocated in memory as soon as the script loads.\n",
    "\n",
    "Here's an example:"
   ]
  },
  {
   "cell_type": "code",
   "execution_count": 1,
   "metadata": {},
   "outputs": [
    {
     "name": "stdout",
     "output_type": "stream",
     "text": [
      "before the block myVar equals undefined\n",
      "inside the block myVar equals this is a var variable declared inside an if block\n",
      "after the if block myVar equals this is a var variable declared inside an if block\n"
     ]
    }
   ],
   "source": [
    "console.log(\"before the block myVar equals \" + myVar);\n",
    "if (1 < 2){\n",
    "  var myVar = \"this is a var variable declared inside an if block\";\n",
    "  console.log(\"inside the block myVar equals \" + myVar);\n",
    "\n",
    "}\n",
    "console.log(\"after the if block myVar equals \" + myVar);"
   ]
  },
  {
   "cell_type": "markdown",
   "metadata": {},
   "source": [
    "### let \n",
    "\n",
    "You can also define variables using the keyword `let` instead of `var`. Here's how `let` variables differ:\n",
    "\n",
    "1. Thy are scoped to the __block__ in which they are declared. In addition to functions, this includes things like if statements and while/for loops.\n",
    "2. They are __not hoisted__ meaning that they do not exist in memory in any way until the interpreter gets to the line on which they are defined. \n",
    "\n",
    "Let's look at what happens if you swap out `var myVar` with `let myLet` in the code from above:"
   ]
  },
  {
   "cell_type": "code",
   "execution_count": 2,
   "metadata": {},
   "outputs": [
    {
     "ename": "ReferenceError",
     "evalue": "myLet is not defined",
     "output_type": "error",
     "traceback": [
      "evalmachine.<anonymous>:1",
      "console.log(\"before the block myLet equals \" + myLet);",
      "                                               ^",
      "",
      "ReferenceError: myLet is not defined",
      "    at evalmachine.<anonymous>:1:48",
      "    at ContextifyScript.Script.runInThisContext (vm.js:44:33)",
      "    at Object.runInThisContext (vm.js:116:38)",
      "    at run ([eval]:775:15)",
      "    at onRunRequest ([eval]:620:18)",
      "    at onMessage ([eval]:588:13)",
      "    at emitTwo (events.js:125:13)",
      "    at process.emit (events.js:213:7)",
      "    at handleMessage (internal/child_process.js:753:14)",
      "    at Pipe.channel.onread (internal/child_process.js:472:11)"
     ]
    }
   ],
   "source": [
    "console.log(\"before the block myLet equals \" + myLet);\n",
    "if (1 < 2){\n",
    "    let myLet = \"this is a let variable declared inside an if block\";\n",
    "    console.log(\"inside the block myLet equals \" + myLet);\n",
    "}\n",
    "console.log(\"after the if block myLet equals \" + myLet);"
   ]
  },
  {
   "cell_type": "markdown",
   "metadata": {},
   "source": [
    "Because let variables are not hoisted, this code chunk will error on the first line and not continue\n",
    "\n",
    "Let's skip that first line though and see what we get:"
   ]
  },
  {
   "cell_type": "code",
   "execution_count": 8,
   "metadata": {},
   "outputs": [
    {
     "name": "stdout",
     "output_type": "stream",
     "text": [
      "inside the block myLet equals this is a let variable declared inside an if block\n"
     ]
    },
    {
     "ename": "ReferenceError",
     "evalue": "myLet is not defined",
     "output_type": "error",
     "traceback": [
      "evalmachine.<anonymous>:5",
      "console.log(\"after the if block myLet equals \" + myLet);",
      "                                                 ^",
      "",
      "ReferenceError: myLet is not defined",
      "    at evalmachine.<anonymous>:5:50",
      "    at ContextifyScript.Script.runInThisContext (vm.js:44:33)",
      "    at Object.runInThisContext (vm.js:116:38)",
      "    at run ([eval]:775:15)",
      "    at onRunRequest ([eval]:620:18)",
      "    at onMessage ([eval]:588:13)",
      "    at emitTwo (events.js:125:13)",
      "    at process.emit (events.js:213:7)",
      "    at handleMessage (internal/child_process.js:753:14)",
      "    at Pipe.channel.onread (internal/child_process.js:472:11)"
     ]
    }
   ],
   "source": [
    "if (1 < 2){\n",
    "    let myLet = \"this is a let variable declared inside an if block\";\n",
    "    console.log(\"inside the block myLet equals \" + myLet);\n",
    "}\n",
    "console.log(\"after the if block myLet equals \" + myLet);"
   ]
  },
  {
   "cell_type": "markdown",
   "metadata": {},
   "source": [
    "So as you can see, the `myLet` only existed in the if block. Unlike a `var` variable, it doesn't exist in any form outside of this block.\n",
    "\n",
    "In the right circumstances, `let` has several advantages over `var`, most notably performance. Because `let` variables are cleaned up after their block completes, they're no longer sitting around taking up memory. They're also great for temporary variables such as in loops, and allow for cleaner code. Consider the following:"
   ]
  },
  {
   "cell_type": "code",
   "execution_count": 9,
   "metadata": {},
   "outputs": [
    {
     "name": "stdout",
     "output_type": "stream",
     "text": [
      "1\n",
      "2\n",
      "3\n",
      "i is still equal to 3\n"
     ]
    }
   ],
   "source": [
    "var array = [1,2,3];\n",
    "\n",
    "for (var i = 0; i < array.length; i += 1) {\n",
    "  console.log(array[i]);\n",
    "}\n",
    "console.log(\"i is still equal to \" + i);"
   ]
  },
  {
   "cell_type": "markdown",
   "metadata": {},
   "source": [
    "We don't think about it, but `i` is still there in memory after the loop completes, taking up space, and possibly colluding with other loops. If we define `i` with `let` instead, it will be cleaned up as soon as the loop is over:"
   ]
  },
  {
   "cell_type": "code",
   "execution_count": 7,
   "metadata": {},
   "outputs": [
    {
     "name": "stdout",
     "output_type": "stream",
     "text": [
      "1\n",
      "2\n",
      "3\n",
      "i is now undefined\n"
     ]
    }
   ],
   "source": [
    "var i = undefined; //resetting from previous example\n",
    "var array = [1,2,3];\n",
    "\n",
    "for (let i = 0; i < array.length; i += 1) {\n",
    "  console.log(array[i]);\n",
    "}\n",
    "\n",
    "console.log(\"i is now \" + i);"
   ]
  },
  {
   "cell_type": "markdown",
   "metadata": {},
   "source": [
    "`let` can be especially helpful if you have multpile loops going at once. "
   ]
  },
  {
   "cell_type": "markdown",
   "metadata": {},
   "source": [
    "__Exercise__\n",
    "\n",
    "# tk\n",
    "--sucks--\n",
    "Given the following 2-D array, write a nested loop (a loop inside of a loop) that utilizes let variables to use only one loop variable\n",
    "\n",
    "```javascript\n",
    "var items = [\n",
    "  [1, 2],\n",
    "  [3, 4],\n",
    "  [5, 6]\n",
    "];\n",
    "```"
   ]
  }
 ],
 "metadata": {
  "kernelspec": {
   "display_name": "Javascript (Node.js)",
   "language": "javascript",
   "name": "javascript"
  },
  "language_info": {
   "file_extension": ".js",
   "mimetype": "application/javascript",
   "name": "javascript",
   "version": "8.1.2"
  }
 },
 "nbformat": 4,
 "nbformat_minor": 2
}
