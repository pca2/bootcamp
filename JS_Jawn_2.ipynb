{
 "cells": [
  {
   "cell_type": "markdown",
   "metadata": {},
   "source": [
    "# JavaScript Jawn Part 2\n",
    "\n",
    "## Section 1: let and const variables\n",
    "\n",
    "So far you've\n",
    "always been declaring variables with the `var` keyword, but\n",
    "there's actually\n",
    "other ways do define variables too, `let` and `const`\n",
    "\n",
    "First\n",
    "let's do a quick\n",
    "review of `var`. Two of the key properties of variables defined\n",
    "with var are\n",
    "that:\n",
    "\n",
    "1. They are scoped to the function in which they are\n",
    "declared, or if\n",
    "there is no function, the global frame.\n",
    "2. They are hoisted at\n",
    "compile time,\n",
    "meaning that they are allocated in memory as soon as the script\n",
    "loads.\n",
    "\n",
    "Here's\n",
    "an example:"
   ]
  },
  {
   "cell_type": "code",
   "execution_count": null,
   "metadata": {},
   "outputs": [],
   "source": [
    "console.log(\"before the block myVar equals \" + myVar);\n",
    "if (1 < 2){\n",
    "  var myVar = \"this is a var variable declared inside an if block\";\n",
    "  console.log(\"inside the block myVar equals \" + myVar);\n",
    "\n",
    "}\n",
    "console.log(\"after the if block myVar equals \" + myVar);"
   ]
  },
  {
   "cell_type": "markdown",
   "metadata": {},
   "source": [
    "### let \n",
    "\n",
    "You can also define variables using the keyword `let` instead of\n",
    "`var`. Here's how `let` variables differ:\n",
    "\n",
    "1. Thy are scoped to the __block__ in\n",
    "which they are declared. In addition to functions, this includes things like if\n",
    "statements and while/for loops.\n",
    "2. They are __not hoisted__ meaning that they do\n",
    "not exist in memory in any way until the interpreter gets to the line on which\n",
    "they are defined. \n",
    "\n",
    "Let's look at what happens if you swap out `var myVar` with\n",
    "`let myLet` in the code from above:"
   ]
  },
  {
   "cell_type": "code",
   "execution_count": null,
   "metadata": {},
   "outputs": [],
   "source": [
    "console.log(\"before the block myLet equals \" + myLet);\n",
    "if (1 < 2){\n",
    "    let myLet = \"this is a let variable declared inside an if block\";\n",
    "    console.log(\"inside the block myLet equals \" + myLet);\n",
    "}\n",
    "console.log(\"after the if block myLet equals \" + myLet);"
   ]
  },
  {
   "cell_type": "markdown",
   "metadata": {},
   "source": [
    "Because let variables are not hoisted, this code chunk will error on the first\n",
    "line and not continue\n",
    "\n",
    "Let's skip that first line though and see what we get:"
   ]
  },
  {
   "cell_type": "code",
   "execution_count": null,
   "metadata": {},
   "outputs": [],
   "source": [
    "if (1 < 2){\n",
    "    let myLet = \"this is a let variable declared inside an if block\";\n",
    "    console.log(\"inside the block myLet equals \" + myLet);\n",
    "}\n",
    "console.log(\"after the if block myLet equals \" + myLet);"
   ]
  },
  {
   "cell_type": "markdown",
   "metadata": {},
   "source": [
    "So as you can see, the `myLet` only existed in the if block. Unlike a `var`\n",
    "variable, it doesn't exist in any form outside of this block.\n",
    "\n",
    "In the right\n",
    "circumstances, `let` has several advantages over `var`, most notably\n",
    "performance. Because `let` variables are cleaned up after their block completes,\n",
    "they're no longer sitting around taking up memory. They're also great for\n",
    "temporary variables such as in loops, and allow for cleaner code. Consider the\n",
    "following:"
   ]
  },
  {
   "cell_type": "code",
   "execution_count": null,
   "metadata": {},
   "outputs": [],
   "source": [
    "var array = [1,2,3];\n",
    "\n",
    "for (var i = 0; i < array.length; i += 1) {\n",
    "  console.log(array[i]);\n",
    "}\n",
    "console.log(\"i is still equal to \" + i);"
   ]
  },
  {
   "cell_type": "markdown",
   "metadata": {},
   "source": [
    "We don't think about it, but `i` is still there in memory after the loop\n",
    "completes, taking up space, and possibly colluding with other loops. If we\n",
    "define `i` with `let` instead, it will be cleaned up as soon as the loop is\n",
    "over:"
   ]
  },
  {
   "cell_type": "code",
   "execution_count": null,
   "metadata": {},
   "outputs": [],
   "source": [
    "var i = undefined; //resetting from previous example\n",
    "var array = [1,2,3];\n",
    "\n",
    "for (let i = 0; i < array.length; i += 1) {\n",
    "  console.log(array[i]);\n",
    "}\n",
    "\n",
    "console.log(\"i is now \" + i);"
   ]
  },
  {
   "cell_type": "markdown",
   "metadata": {},
   "source": [
    "`let` can be especially helpful if you have multpile loops going at once.\n",
    "\n",
    "###\n",
    "const\n",
    "\n",
    "Variables defined with `const` are very similiar to `let` variables.\n",
    "1.\n",
    "Just like `let`, they are scoped to the __block__ in which they are declared.\n",
    "In\n",
    "addition to functions, this includes things like if statements and while/for\n",
    "loops.\n",
    "2. Just like `let`, they are __not hoisted__ meaning that they do not\n",
    "exist in memory in any way until the interpreter gets to the line on which they\n",
    "are defined. \n",
    "\n",
    "Plus a third rule:\n",
    "3. Variables defined with `const` will throw\n",
    "an error if you attempt to re-define them."
   ]
  },
  {
   "cell_type": "code",
   "execution_count": null,
   "metadata": {},
   "outputs": [],
   "source": [
    "const name = \"Ralph\";\n",
    "console.log(\"In the global frame the name is \" + name);\n",
    "if (1 < 2){\n",
    "  const name = \"Sam\";\n",
    "  console.log(\"In this block name is \" + name);\n",
    "}\n",
    "console.log(\"Back in the global frame the name is \" + name);\n",
    "const name = \"Another name\";"
   ]
  },
  {
   "cell_type": "markdown",
   "metadata": {},
   "source": [
    "__Summary__\n",
    "\n",
    "| Type | Scope | Hoisting | Other |\n",
    "| --- | --- | --- | --- |\n",
    "|var |function|hoisted|N/A |\n",
    "|let | block |not hoisted|N/A |\n",
    "|const|block|not hoisted| error if re-defined|\n",
    "\n",
    "__Exercise__\n",
    "\n",
    "# tk\n",
    "--sucks--\n",
    "Given the following\n",
    "2-D array, write a nested loop\n",
    "(a loop inside of a loop) that utilizes let\n",
    "variables to use only one loop\n",
    "variable"
   ]
  },
  {
   "cell_type": "code",
   "execution_count": null,
   "metadata": {
    "attributes": {
     "classes": [
      "javascript"
     ],
     "id": ""
    }
   },
   "outputs": [],
   "source": [
    "var items = [\n",
    "  [1, 2],\n",
    "  [3, 4],\n",
    "  [5, 6]\n",
    "];"
   ]
  },
  {
   "cell_type": "markdown",
   "metadata": {},
   "source": [
    "## Section 2: Closure\n",
    "\n",
    "As we know, JS has functional scope for variables defined\n",
    "with `var`. These variables are scoped to the function they are defined in, and\n",
    "if they're not defined inside a function, they're scoped to the global frame.\n",
    "Nested functions always have access to outer layers, but outer layers never have\n",
    "access to inner layers."
   ]
  },
  {
   "cell_type": "code",
   "execution_count": null,
   "metadata": {},
   "outputs": [],
   "source": [
    "function funcOne() {\n",
    "  var myString = \"This string is defined inside funcOne\";\n",
    "  function writeString() {\n",
    "    console.log(myString)\n",
    "  }\n",
    "  writeString();\n",
    "}\n",
    "\n",
    "funcOne();"
   ]
  },
  {
   "cell_type": "markdown",
   "metadata": {},
   "source": [
    "The code above is nothing you haven't seen before, but let's review what happens\n",
    "here because we're then going to build on this basic example:\n",
    "\n",
    "1. `funcOne`\n",
    "defines a variable, `myString`, and a function, `writeString`.\n",
    "2. `funcOne` then\n",
    "calls the `writeString` function.\n",
    "3. `writeString` simply logs the `variable`\n",
    "myString. Note that `writeString` has access to `myString` automatically thanks\n",
    "to JS's lexical scoping. `WriteString` doesn't define the variable nor is it\n",
    "passed in as a parameter.\n",
    "\n",
    "Let's change to code block above slightly to make use\n",
    "of closure:"
   ]
  },
  {
   "cell_type": "code",
   "execution_count": null,
   "metadata": {},
   "outputs": [],
   "source": [
    "function funcOne() {\n",
    "  var myString = \"This string is defined inside funcOne\";\n",
    "  function writeString() {\n",
    "\t  console.log(myString)\n",
    "\t}\n",
    "\treturn writeString;\n",
    "}\n",
    "\n",
    "var myFunc = funcOne();\n",
    "myFunc();"
   ]
  },
  {
   "cell_type": "markdown",
   "metadata": {},
   "source": [
    "Okay, so almost the same code as before, but now instead of `funcOne` defining\n",
    "and then running `writeString`, it now defines it and _returns_ the function\n",
    "itself. That means when we define `myFunc` as the result of `funcOne()`, we're\n",
    "essentially defining `myFunc` as the `writeString` nested function. Just as in\n",
    "the first example, `writeString` has access to the `myString` variable, but so\n",
    "does `myFunc`. \n",
    "\n",
    "The key thing to understand here is that when a function\n",
    "returns another function that is nested inside of it, you're not only returning\n",
    "the nested function, you're returning the __context in which the nested function\n",
    "was defined__. This is what's know as a closure. This is possible in JS because\n",
    "functions are _first-class objects_.\n",
    "\n",
    "Here's a more formal definition that you\n",
    "may find helpful:\n",
    "\n",
    ">A closure is the combination of a function\n",
    "and the lexical\n",
    "environment within which that function was declared. This\n",
    "environment consists\n",
    "of any local variables that were in-scope at the time that\n",
    "the closure was\n",
    "created. \n",
    "\n",
    "-- https://developer.mozilla.org/en-US/docs/Web/JavaScript/Closures\n",
    "One of the neat things that closures\n",
    "makes\n",
    "possible is functions that create\n",
    "other functions, but with the same\n",
    "initial\n",
    "conditions for every new instance.\n",
    "Let's take a look."
   ]
  },
  {
   "cell_type": "code",
   "execution_count": null,
   "metadata": {},
   "outputs": [],
   "source": [
    "var makeAdder = function(a) {\n",
    "  var adder = function(b) {\n",
    "  console.log(a + b)\n",
    "  }\n",
    "  return adder \n",
    "}\n",
    "\n",
    "var add5 = makeAdder(5);\n",
    "//the A parameter in the above code has been set to 5\n",
    "//You can now pass any number to add5 and it will add 5 to it\n",
    "\n",
    "add5(2);\n",
    "add5(7);"
   ]
  },
  {
   "cell_type": "code",
   "execution_count": null,
   "metadata": {},
   "outputs": [],
   "source": [
    "var add10 = makeAdder(10);\n",
    "//Now the A parameter has been set to 10.\n",
    "//You can now pass any number to add10 and 10 will be added to it\n",
    "\n",
    "add10(2);\n",
    "add10(7);\n"
   ]
  },
  {
   "cell_type": "markdown",
   "metadata": {},
   "source": [
    "Now that's neat and all, but maybe not the most practical example. Let's take a\n",
    "look at some instances where closures can be quite helpful.\n",
    "\n",
    "Closures allow you\n",
    "to mimic some of the features of object-oriented languages that JS lacks on its\n",
    "own. for example, private values. Let's take a look at an example:"
   ]
  },
  {
   "cell_type": "code",
   "execution_count": null,
   "metadata": {},
   "outputs": [],
   "source": [
    "var makeCounter = function() {\n",
    "  var privateCounter = 0;\n",
    "  function changeBy(val) {\n",
    "    privateCounter += val;\n",
    "    //console.log(privateCounter);  \n",
    "  }\n",
    "  return {\n",
    "    increment: function() {\n",
    "      changeBy(1);\n",
    "      console.log(privateCounter);  \n",
    "    },\n",
    "    decrement: function() {\n",
    "      changeBy(-1);\n",
    "      console.log(privateCounter);  \n",
    "    },\n",
    "    value: function() {\n",
    "      console.log(privateCounter);  \n",
    "    }\n",
    "  }  \n",
    "};"
   ]
  },
  {
   "cell_type": "markdown",
   "metadata": {},
   "source": [
    "This is very similiar to the other closures we saw above. `MakeCounter` defines\n",
    "an initial variable, `privateCounter`, and a function, `changeBy`, which has\n",
    "access to `privateCounter`. Instead of returning a single function as we saw\n",
    "earlier, it actually returns an object which contains 3 functions. Two of these\n",
    "functions call the `ChangeBy` function, and as a result have access to\n",
    "`privateCounter` through the magic of closure.\n",
    "\n",
    "We can now create a new counter\n",
    "and use any of these methods:"
   ]
  },
  {
   "cell_type": "code",
   "execution_count": null,
   "metadata": {},
   "outputs": [],
   "source": [
    "var counter1 = makeCounter();\n",
    "counter1.increment();\n",
    "counter1.increment();\n",
    "counter1.decrement();"
   ]
  },
  {
   "cell_type": "markdown",
   "metadata": {},
   "source": [
    "We could then even create anoter counter if we wanted to, and it would not be\n",
    "affected be the first one, even though they both start with the same initial\n",
    "value"
   ]
  },
  {
   "cell_type": "code",
   "execution_count": null,
   "metadata": {},
   "outputs": [],
   "source": [
    "var counter2 = makeCounter();\n",
    "counter2.decrement();\n",
    "counter2.decrement();\n",
    "counter2.decrement();"
   ]
  },
  {
   "cell_type": "markdown",
   "metadata": {},
   "source": [
    "Notice of course that neither counter has direct access to that privateCounter\n",
    "variable, they have to go through the value function. Using closures in this way\n",
    "is sometimes known the _module pattern_. \n",
    "\n",
    "__Excercise__\n",
    "\n",
    "TK\n",
    "\n",
    "One of the reasons\n",
    "closure and JavaScript are so closely associated with each\n",
    "other is that it's\n",
    "not possible in many other languages:\n",
    "\n",
    ">In\n",
    "JavaScript, if you\n",
    "use the function\n",
    "keyword inside another function, you are\n",
    "creating a closure. In\n",
    "C and most other\n",
    "common languages, after a function\n",
    "returns, all the local\n",
    "variables are no\n",
    "longer accessible because the stack-\n",
    "frame is destroyed. In\n",
    "JavaScript, if you\n",
    "declare a function within another\n",
    "function, then the local\n",
    "variables can remain\n",
    "accessible after returning from\n",
    "the function you called.\n",
    "\n",
    "--\n",
    "https://stackoverflow.com/a/111111\n"
   ]
  },
  {
   "cell_type": "markdown",
   "metadata": {},
   "source": [
    "# Section 3: The `this` keyword and Constructor functions\n",
    "\n",
    "\n",
    "Let's say you create a new object, fido:"
   ]
  },
  {
   "cell_type": "code",
   "execution_count": null,
   "metadata": {
    "attributes": {
     "classes": [
      "javascript"
     ],
     "id": ""
    }
   },
   "outputs": [],
   "source": [
    "var fido = {\n",
    "  name: \"fido\",\n",
    "  barkCount: 0     \n",
    "};"
   ]
  },
  {
   "cell_type": "markdown",
   "metadata": {},
   "source": [
    "You like having fido around so much you decide to create another very similiar\n",
    "object, lassie:"
   ]
  },
  {
   "cell_type": "code",
   "execution_count": null,
   "metadata": {
    "attributes": {
     "classes": [
      "javascript"
     ],
     "id": ""
    }
   },
   "outputs": [],
   "source": [
    "var lassie = {\n",
    "  name: \"lassie\",\n",
    "  barkCount: 0     \n",
    "};"
   ]
  },
  {
   "cell_type": "markdown",
   "metadata": {},
   "source": [
    "This is great and all, but in practice, you probably don't want to be lovingly\n",
    "handmaking artisnal objects one-by-one; you want some automation. Fortunately we\n",
    "can create a single constructor function that will take care of that for us:"
   ]
  },
  {
   "cell_type": "code",
   "execution_count": null,
   "metadata": {
    "attributes": {
     "classes": [
      "javascript"
     ],
     "id": ""
    }
   },
   "outputs": [],
   "source": [
    "var Dog = function(name,barkCount) {\n",
    "  this.name = name;\n",
    "  this.barkCount = 0;\n",
    "}"
   ]
  },
  {
   "cell_type": "markdown",
   "metadata": {},
   "source": [
    "With this handy function we can create as many Dog-like obects as we want with:"
   ]
  },
  {
   "cell_type": "code",
   "execution_count": null,
   "metadata": {
    "attributes": {
     "classes": [
      "javascript"
     ],
     "id": ""
    }
   },
   "outputs": [],
   "source": [
    "var fido = new Dog('fido',0);\n",
    "\n",
    "console.log(fido);"
   ]
  },
  {
   "cell_type": "markdown",
   "metadata": {},
   "source": [
    "So we've encountered the `this` keyword. It's a powerful idea that, like most things in Javascript, has a few quirks to it.\n",
    "\n",
    "In Javascript `this` is a special keyword used inside functions to refer back to the object/context that invoked the function. Much like the actual English word, `this` can be thought of sort of like a programming pronoun. Instead of referring to another noun though, it refers to another object. This is especially helpful when you want to refer to an object that might not exist yet. \n",
    "\n",
    "Let's take a look again at that Dog function to see what I mean.\n"
   ]
  },
  {
   "cell_type": "code",
   "execution_count": null,
   "metadata": {},
   "outputs": [],
   "source": [
    "var Dog = function(name,barkCount) {\n",
    "  this.name = name;\n",
    "  this.barkCount = 0;\n",
    "}\n",
    "\n",
    "var fido = new Dog('fido',0);"
   ]
  },
  {
   "cell_type": "markdown",
   "metadata": {},
   "source": [
    "The `this` keyword acts as a placeholder. You're saying \"whatever new object is created from running this constructor function, assign it a `name` property equal to the name parameter, and a `barkCount` property equal to the `barkCount` parameter\". This is helpful because the new object doesn't actually exist yet.\n",
    "\n",
    "Also don't forget the difference between parameters and properties in these examples. We use the same name for ease of understanding, but they're separate things:"
   ]
  },
  {
   "cell_type": "code",
   "execution_count": null,
   "metadata": {},
   "outputs": [],
   "source": [
    "var Dog = function(fartz_parameter,buttz_parameter) {\n",
    "  this.name = fartz_parameter;\n",
    "  this.barkCount = buttz_parameter;\n",
    "}"
   ]
  },
  {
   "cell_type": "markdown",
   "metadata": {},
   "source": [
    "__Exercise__\n",
    "tk \n",
    "\n",
    "The `this` keyword can also be helpful when assigning functions to an object: "
   ]
  },
  {
   "cell_type": "code",
   "execution_count": null,
   "metadata": {},
   "outputs": [],
   "source": [
    "var puppy = {\n",
    "  name: \"fido\",\n",
    "  barkCount: 0,\n",
    "  bark: function(){\n",
    "    this.barkCount += 1;\n",
    "    console.log(\"barkcount is \" + this.barkCount);\n",
    "  }\n",
    "}\n",
    "\n",
    "puppy.bark();\n",
    "puppy.bark();"
   ]
  },
  {
   "cell_type": "markdown",
   "metadata": {},
   "source": [
    "__Invocation Rules__\n",
    "\n",
    "In the above example, the `this` in the `bark` function refers to `puppy`, which is pretty straightforward. There are however instances when things can get complicated and it can be tough to figure out what object `this` is pointing to. Let's go over some examples. \n",
    "\n",
    "First, just to review let's look at two straightforward examples again:\n",
    "\n",
    "Here the `this` in the `bark` function refers to the `fido` object:"
   ]
  },
  {
   "cell_type": "code",
   "execution_count": null,
   "metadata": {},
   "outputs": [],
   "source": [
    "var fido = {\n",
    "  name: \"fido\",\n",
    "  barkCount: 0,\n",
    "  bark: function(){\n",
    "    this.barkCount += 1;\n",
    "    console.log(\"barkcount is \" + this.barkCount);\n",
    "  }\n",
    "}\n",
    "fido.bark();"
   ]
  },
  {
   "cell_type": "markdown",
   "metadata": {},
   "source": [
    "In the next example, `this` refers to the new `puppy` object that's created:"
   ]
  },
  {
   "cell_type": "code",
   "execution_count": null,
   "metadata": {},
   "outputs": [],
   "source": [
    "var Dog = function(name,barkCount) {\n",
    "  this.name = name;\n",
    "  this.barkCount = barkCount;\n",
    "}\n",
    "var puppy = new Dog();"
   ]
  },
  {
   "cell_type": "markdown",
   "metadata": {},
   "source": [
    "So far That's all pretty cut and dry, but what happens when you create a new object that refers to an existing object's inner functions? \n",
    "Let's say for example that you want to create a new `fido_bark()` function that refers back to `fido.bark()`"
   ]
  },
  {
   "cell_type": "code",
   "execution_count": null,
   "metadata": {},
   "outputs": [],
   "source": [
    "var fido = {\n",
    "  name: \"fido\",\n",
    "  barkCount: 0,\n",
    "  bark: function(){\n",
    "    this.barkCount += 1;\n",
    "    console.log(\"barkcount is \" + this.barkCount);\n",
    "  }\n",
    "}\n",
    "\n",
    "var fido_bark = fido.bark;\n",
    "fido_bark();"
   ]
  },
  {
   "cell_type": "markdown",
   "metadata": {},
   "source": [
    "Obviously, that's not what we wanted to happen. What's going on is that the `this` in the `fido.bark()` function will refer to the next context \"up\". In this case it would be the the **Window** (or in a node app, the **Global**) object, which may not be what you want. \n",
    "\n",
    "> Even though it appears [the this keyword] refers to the object where it is defined, it is not until another object invokes the _this function_ that [the this keyword] is actually assigned a value. The value it is assigned is based exclusively on the object that invokes the _this function_. [In short, the this keyword] has the value of the invoking object. -- http://javascriptissexy.com/understand-javascripts-this-with-clarity-and-master-it/\n",
    "\n",
    "An easy way to think of it is that generally speaking, The `this` keyword only cares about how it is called, not how it was defined.\n",
    "\n",
    "Fortunately you can work around the error we saw above by manually specifing the context you want to be invoked with the `call` and `apply` functions:"
   ]
  },
  {
   "cell_type": "code",
   "execution_count": null,
   "metadata": {},
   "outputs": [],
   "source": [
    "var fido = {\n",
    "  name: \"fido\",\n",
    "  barkCount: 0,\n",
    "  bark: function(){\n",
    "    this.barkCount += 1;\n",
    "    console.log(\"barkcount is \" + this.barkCount);\n",
    "  }\n",
    "}\n",
    "\n",
    "var fido_bark = fido.bark;\n",
    "fido_bark.call(fido);"
   ]
  },
  {
   "cell_type": "markdown",
   "metadata": {},
   "source": [
    "As you can see, we're manually telling the `bark` function that we want it to run with the context of `fido`, rather than `global`, which is what it would use by default.\n",
    "\n",
    "If the `fido_bark` function took any parameters you could pass them in after the first object:\n",
    "\n",
    "`fido_bark.call(fido,one_parameter,two_parameter);`\n",
    "\n",
    "Bind is similar to call/apply. The difference is that with call/apply you're invoking the function immediately. Bind can be used to permanently set the context of a function ahead of time, for invocation later on:"
   ]
  },
  {
   "cell_type": "code",
   "execution_count": null,
   "metadata": {},
   "outputs": [],
   "source": [
    "var fido = {\n",
    "  name: \"fido\",\n",
    "  bark: function () {\n",
    "  console.log(\"My name is  \" + this.name);\n",
    "  }\n",
    "}\n",
    "\n",
    "var bingo = {\n",
    "  name: \"bingo\"\n",
    "}\n",
    "\n",
    "fido.bark();\n",
    "fido.bark.call(bingo);"
   ]
  },
  {
   "cell_type": "markdown",
   "metadata": {},
   "source": [
    "Using call invokes the bark function right away, but what if we want to define a function that can be called? That's where bind comes to the rescue"
   ]
  },
  {
   "cell_type": "code",
   "execution_count": null,
   "metadata": {},
   "outputs": [],
   "source": [
    "bingo.bark = fido.bark.bind(bingo);\n",
    "bingo.bark();"
   ]
  },
  {
   "cell_type": "markdown",
   "metadata": {},
   "source": [
    "This technique is sometimes called \"function borrowing\"."
   ]
  }
 ],
 "metadata": {
  "kernelspec": {
   "display_name": "Javascript (Node.js)",
   "language": "javascript",
   "name": "javascript"
  },
  "language_info": {
   "file_extension": ".js",
   "mimetype": "application/javascript",
   "name": "javascript",
   "version": "8.9.1"
  }
 },
 "nbformat": 4,
 "nbformat_minor": 2
}
